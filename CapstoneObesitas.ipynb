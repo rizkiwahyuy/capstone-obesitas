{
  "nbformat": 4,
  "nbformat_minor": 0,
  "metadata": {
    "colab": {
      "provenance": [],
      "authorship_tag": "ABX9TyOoXBxgvqSW+QlFMUKz3KoQ",
      "include_colab_link": true
    },
    "kernelspec": {
      "name": "python3",
      "display_name": "Python 3"
    },
    "language_info": {
      "name": "python"
    }
  },
  "cells": [
    {
      "cell_type": "markdown",
      "metadata": {
        "id": "view-in-github",
        "colab_type": "text"
      },
      "source": [
        "<a href=\"https://colab.research.google.com/github/rizkiwahyuy/capstone-obesitas/blob/main/CapstoneObesitas.ipynb\" target=\"_parent\"><img src=\"https://colab.research.google.com/assets/colab-badge.svg\" alt=\"Open In Colab\"/></a>"
      ]
    },
    {
      "cell_type": "markdown",
      "source": [
        "Rizki Wahyu Yulianti - A11.2022.14212"
      ],
      "metadata": {
        "id": "yC4vgsfIbE6H"
      }
    },
    {
      "cell_type": "markdown",
      "source": [
        "**1. Exploratory Data Analysis (EDA)**"
      ],
      "metadata": {
        "id": "amu9nP7Wpeex"
      }
    },
    {
      "cell_type": "code",
      "execution_count": 70,
      "metadata": {
        "id": "H8by-NQESFTR"
      },
      "outputs": [],
      "source": [
        "# Mengimpor pustaka pandas\n",
        "import pandas as pd\n",
        "import numpy as np\n",
        "import seaborn as sns\n",
        "import matplotlib.pyplot as plt\n",
        "import time\n",
        "\n",
        "from sklearn.model_selection import train_test_split\n",
        "from sklearn.preprocessing import LabelEncoder\n",
        "from sklearn.preprocessing import StandardScaler\n",
        "from sklearn.model_selection import GridSearchCV\n",
        "from sklearn.metrics import confusion_matrix, accuracy_score, precision_score, recall_score, f1_score, classification_report\n",
        "\n",
        "# Model Machine Learning\n",
        "from sklearn.ensemble import RandomForestClassifier\n",
        "from sklearn.neighbors import KNeighborsClassifier\n",
        "from sklearn.tree import DecisionTreeClassifier\n",
        "\n",
        "# SMOTE untuk menangani imbalance data\n",
        "from imblearn.over_sampling import SMOTE\n",
        "\n",
        "# Membaca dataset dari Google Drive\n",
        "file_path = '/content/drive/MyDrive/ObesityDataSet.csv'\n",
        "df = pd.read_csv('ObesityDataSet.csv')"
      ]
    },
    {
      "cell_type": "markdown",
      "source": [
        "Penjelasan:\n",
        "\n",
        "pandas untuk membaca dan mengelola data.\n",
        "\n",
        "numpy untuk operasi numerik.\n",
        "\n",
        "matplotlib dan seaborn untuk visualisasi data."
      ],
      "metadata": {
        "id": "GD_5lRAnmDji"
      }
    },
    {
      "cell_type": "code",
      "source": [
        "# Tampilkan 5 baris pertama\n",
        "df.head()"
      ],
      "metadata": {
        "colab": {
          "base_uri": "https://localhost:8080/",
          "height": 226
        },
        "id": "J8DASkQTifut",
        "outputId": "ea30f6d9-37bc-4265-9add-7a2088b9acc3"
      },
      "execution_count": 71,
      "outputs": [
        {
          "output_type": "execute_result",
          "data": {
            "text/plain": [
              "  Age  Gender Height Weight        CALC FAVC FCVC NCP  SCC SMOKE CH2O  \\\n",
              "0  21  Female   1.62     64          no   no    2   3   no    no    2   \n",
              "1  21  Female   1.52     56   Sometimes   no    3   3  yes   yes    3   \n",
              "2  23    Male    1.8     77  Frequently   no    2   3   no    no    2   \n",
              "3  27    Male    1.8     87  Frequently   no    3   3   no    no    2   \n",
              "4  22    Male   1.78   89.8   Sometimes   no    2   1   no    no    2   \n",
              "\n",
              "  family_history_with_overweight FAF TUE       CAEC                 MTRANS  \\\n",
              "0                            yes   0   1  Sometimes  Public_Transportation   \n",
              "1                            yes   3   0  Sometimes  Public_Transportation   \n",
              "2                            yes   2   1  Sometimes  Public_Transportation   \n",
              "3                             no   2   0  Sometimes                Walking   \n",
              "4                             no   0   0  Sometimes  Public_Transportation   \n",
              "\n",
              "            NObeyesdad  \n",
              "0        Normal_Weight  \n",
              "1        Normal_Weight  \n",
              "2        Normal_Weight  \n",
              "3   Overweight_Level_I  \n",
              "4  Overweight_Level_II  "
            ],
            "text/html": [
              "\n",
              "  <div id=\"df-09ea1ee4-da0c-4d4c-9744-d7f10bc33397\" class=\"colab-df-container\">\n",
              "    <div>\n",
              "<style scoped>\n",
              "    .dataframe tbody tr th:only-of-type {\n",
              "        vertical-align: middle;\n",
              "    }\n",
              "\n",
              "    .dataframe tbody tr th {\n",
              "        vertical-align: top;\n",
              "    }\n",
              "\n",
              "    .dataframe thead th {\n",
              "        text-align: right;\n",
              "    }\n",
              "</style>\n",
              "<table border=\"1\" class=\"dataframe\">\n",
              "  <thead>\n",
              "    <tr style=\"text-align: right;\">\n",
              "      <th></th>\n",
              "      <th>Age</th>\n",
              "      <th>Gender</th>\n",
              "      <th>Height</th>\n",
              "      <th>Weight</th>\n",
              "      <th>CALC</th>\n",
              "      <th>FAVC</th>\n",
              "      <th>FCVC</th>\n",
              "      <th>NCP</th>\n",
              "      <th>SCC</th>\n",
              "      <th>SMOKE</th>\n",
              "      <th>CH2O</th>\n",
              "      <th>family_history_with_overweight</th>\n",
              "      <th>FAF</th>\n",
              "      <th>TUE</th>\n",
              "      <th>CAEC</th>\n",
              "      <th>MTRANS</th>\n",
              "      <th>NObeyesdad</th>\n",
              "    </tr>\n",
              "  </thead>\n",
              "  <tbody>\n",
              "    <tr>\n",
              "      <th>0</th>\n",
              "      <td>21</td>\n",
              "      <td>Female</td>\n",
              "      <td>1.62</td>\n",
              "      <td>64</td>\n",
              "      <td>no</td>\n",
              "      <td>no</td>\n",
              "      <td>2</td>\n",
              "      <td>3</td>\n",
              "      <td>no</td>\n",
              "      <td>no</td>\n",
              "      <td>2</td>\n",
              "      <td>yes</td>\n",
              "      <td>0</td>\n",
              "      <td>1</td>\n",
              "      <td>Sometimes</td>\n",
              "      <td>Public_Transportation</td>\n",
              "      <td>Normal_Weight</td>\n",
              "    </tr>\n",
              "    <tr>\n",
              "      <th>1</th>\n",
              "      <td>21</td>\n",
              "      <td>Female</td>\n",
              "      <td>1.52</td>\n",
              "      <td>56</td>\n",
              "      <td>Sometimes</td>\n",
              "      <td>no</td>\n",
              "      <td>3</td>\n",
              "      <td>3</td>\n",
              "      <td>yes</td>\n",
              "      <td>yes</td>\n",
              "      <td>3</td>\n",
              "      <td>yes</td>\n",
              "      <td>3</td>\n",
              "      <td>0</td>\n",
              "      <td>Sometimes</td>\n",
              "      <td>Public_Transportation</td>\n",
              "      <td>Normal_Weight</td>\n",
              "    </tr>\n",
              "    <tr>\n",
              "      <th>2</th>\n",
              "      <td>23</td>\n",
              "      <td>Male</td>\n",
              "      <td>1.8</td>\n",
              "      <td>77</td>\n",
              "      <td>Frequently</td>\n",
              "      <td>no</td>\n",
              "      <td>2</td>\n",
              "      <td>3</td>\n",
              "      <td>no</td>\n",
              "      <td>no</td>\n",
              "      <td>2</td>\n",
              "      <td>yes</td>\n",
              "      <td>2</td>\n",
              "      <td>1</td>\n",
              "      <td>Sometimes</td>\n",
              "      <td>Public_Transportation</td>\n",
              "      <td>Normal_Weight</td>\n",
              "    </tr>\n",
              "    <tr>\n",
              "      <th>3</th>\n",
              "      <td>27</td>\n",
              "      <td>Male</td>\n",
              "      <td>1.8</td>\n",
              "      <td>87</td>\n",
              "      <td>Frequently</td>\n",
              "      <td>no</td>\n",
              "      <td>3</td>\n",
              "      <td>3</td>\n",
              "      <td>no</td>\n",
              "      <td>no</td>\n",
              "      <td>2</td>\n",
              "      <td>no</td>\n",
              "      <td>2</td>\n",
              "      <td>0</td>\n",
              "      <td>Sometimes</td>\n",
              "      <td>Walking</td>\n",
              "      <td>Overweight_Level_I</td>\n",
              "    </tr>\n",
              "    <tr>\n",
              "      <th>4</th>\n",
              "      <td>22</td>\n",
              "      <td>Male</td>\n",
              "      <td>1.78</td>\n",
              "      <td>89.8</td>\n",
              "      <td>Sometimes</td>\n",
              "      <td>no</td>\n",
              "      <td>2</td>\n",
              "      <td>1</td>\n",
              "      <td>no</td>\n",
              "      <td>no</td>\n",
              "      <td>2</td>\n",
              "      <td>no</td>\n",
              "      <td>0</td>\n",
              "      <td>0</td>\n",
              "      <td>Sometimes</td>\n",
              "      <td>Public_Transportation</td>\n",
              "      <td>Overweight_Level_II</td>\n",
              "    </tr>\n",
              "  </tbody>\n",
              "</table>\n",
              "</div>\n",
              "    <div class=\"colab-df-buttons\">\n",
              "\n",
              "  <div class=\"colab-df-container\">\n",
              "    <button class=\"colab-df-convert\" onclick=\"convertToInteractive('df-09ea1ee4-da0c-4d4c-9744-d7f10bc33397')\"\n",
              "            title=\"Convert this dataframe to an interactive table.\"\n",
              "            style=\"display:none;\">\n",
              "\n",
              "  <svg xmlns=\"http://www.w3.org/2000/svg\" height=\"24px\" viewBox=\"0 -960 960 960\">\n",
              "    <path d=\"M120-120v-720h720v720H120Zm60-500h600v-160H180v160Zm220 220h160v-160H400v160Zm0 220h160v-160H400v160ZM180-400h160v-160H180v160Zm440 0h160v-160H620v160ZM180-180h160v-160H180v160Zm440 0h160v-160H620v160Z\"/>\n",
              "  </svg>\n",
              "    </button>\n",
              "\n",
              "  <style>\n",
              "    .colab-df-container {\n",
              "      display:flex;\n",
              "      gap: 12px;\n",
              "    }\n",
              "\n",
              "    .colab-df-convert {\n",
              "      background-color: #E8F0FE;\n",
              "      border: none;\n",
              "      border-radius: 50%;\n",
              "      cursor: pointer;\n",
              "      display: none;\n",
              "      fill: #1967D2;\n",
              "      height: 32px;\n",
              "      padding: 0 0 0 0;\n",
              "      width: 32px;\n",
              "    }\n",
              "\n",
              "    .colab-df-convert:hover {\n",
              "      background-color: #E2EBFA;\n",
              "      box-shadow: 0px 1px 2px rgba(60, 64, 67, 0.3), 0px 1px 3px 1px rgba(60, 64, 67, 0.15);\n",
              "      fill: #174EA6;\n",
              "    }\n",
              "\n",
              "    .colab-df-buttons div {\n",
              "      margin-bottom: 4px;\n",
              "    }\n",
              "\n",
              "    [theme=dark] .colab-df-convert {\n",
              "      background-color: #3B4455;\n",
              "      fill: #D2E3FC;\n",
              "    }\n",
              "\n",
              "    [theme=dark] .colab-df-convert:hover {\n",
              "      background-color: #434B5C;\n",
              "      box-shadow: 0px 1px 3px 1px rgba(0, 0, 0, 0.15);\n",
              "      filter: drop-shadow(0px 1px 2px rgba(0, 0, 0, 0.3));\n",
              "      fill: #FFFFFF;\n",
              "    }\n",
              "  </style>\n",
              "\n",
              "    <script>\n",
              "      const buttonEl =\n",
              "        document.querySelector('#df-09ea1ee4-da0c-4d4c-9744-d7f10bc33397 button.colab-df-convert');\n",
              "      buttonEl.style.display =\n",
              "        google.colab.kernel.accessAllowed ? 'block' : 'none';\n",
              "\n",
              "      async function convertToInteractive(key) {\n",
              "        const element = document.querySelector('#df-09ea1ee4-da0c-4d4c-9744-d7f10bc33397');\n",
              "        const dataTable =\n",
              "          await google.colab.kernel.invokeFunction('convertToInteractive',\n",
              "                                                    [key], {});\n",
              "        if (!dataTable) return;\n",
              "\n",
              "        const docLinkHtml = 'Like what you see? Visit the ' +\n",
              "          '<a target=\"_blank\" href=https://colab.research.google.com/notebooks/data_table.ipynb>data table notebook</a>'\n",
              "          + ' to learn more about interactive tables.';\n",
              "        element.innerHTML = '';\n",
              "        dataTable['output_type'] = 'display_data';\n",
              "        await google.colab.output.renderOutput(dataTable, element);\n",
              "        const docLink = document.createElement('div');\n",
              "        docLink.innerHTML = docLinkHtml;\n",
              "        element.appendChild(docLink);\n",
              "      }\n",
              "    </script>\n",
              "  </div>\n",
              "\n",
              "\n",
              "    <div id=\"df-dc24706c-bfea-4244-aa55-6d34c129e5d8\">\n",
              "      <button class=\"colab-df-quickchart\" onclick=\"quickchart('df-dc24706c-bfea-4244-aa55-6d34c129e5d8')\"\n",
              "                title=\"Suggest charts\"\n",
              "                style=\"display:none;\">\n",
              "\n",
              "<svg xmlns=\"http://www.w3.org/2000/svg\" height=\"24px\"viewBox=\"0 0 24 24\"\n",
              "     width=\"24px\">\n",
              "    <g>\n",
              "        <path d=\"M19 3H5c-1.1 0-2 .9-2 2v14c0 1.1.9 2 2 2h14c1.1 0 2-.9 2-2V5c0-1.1-.9-2-2-2zM9 17H7v-7h2v7zm4 0h-2V7h2v10zm4 0h-2v-4h2v4z\"/>\n",
              "    </g>\n",
              "</svg>\n",
              "      </button>\n",
              "\n",
              "<style>\n",
              "  .colab-df-quickchart {\n",
              "      --bg-color: #E8F0FE;\n",
              "      --fill-color: #1967D2;\n",
              "      --hover-bg-color: #E2EBFA;\n",
              "      --hover-fill-color: #174EA6;\n",
              "      --disabled-fill-color: #AAA;\n",
              "      --disabled-bg-color: #DDD;\n",
              "  }\n",
              "\n",
              "  [theme=dark] .colab-df-quickchart {\n",
              "      --bg-color: #3B4455;\n",
              "      --fill-color: #D2E3FC;\n",
              "      --hover-bg-color: #434B5C;\n",
              "      --hover-fill-color: #FFFFFF;\n",
              "      --disabled-bg-color: #3B4455;\n",
              "      --disabled-fill-color: #666;\n",
              "  }\n",
              "\n",
              "  .colab-df-quickchart {\n",
              "    background-color: var(--bg-color);\n",
              "    border: none;\n",
              "    border-radius: 50%;\n",
              "    cursor: pointer;\n",
              "    display: none;\n",
              "    fill: var(--fill-color);\n",
              "    height: 32px;\n",
              "    padding: 0;\n",
              "    width: 32px;\n",
              "  }\n",
              "\n",
              "  .colab-df-quickchart:hover {\n",
              "    background-color: var(--hover-bg-color);\n",
              "    box-shadow: 0 1px 2px rgba(60, 64, 67, 0.3), 0 1px 3px 1px rgba(60, 64, 67, 0.15);\n",
              "    fill: var(--button-hover-fill-color);\n",
              "  }\n",
              "\n",
              "  .colab-df-quickchart-complete:disabled,\n",
              "  .colab-df-quickchart-complete:disabled:hover {\n",
              "    background-color: var(--disabled-bg-color);\n",
              "    fill: var(--disabled-fill-color);\n",
              "    box-shadow: none;\n",
              "  }\n",
              "\n",
              "  .colab-df-spinner {\n",
              "    border: 2px solid var(--fill-color);\n",
              "    border-color: transparent;\n",
              "    border-bottom-color: var(--fill-color);\n",
              "    animation:\n",
              "      spin 1s steps(1) infinite;\n",
              "  }\n",
              "\n",
              "  @keyframes spin {\n",
              "    0% {\n",
              "      border-color: transparent;\n",
              "      border-bottom-color: var(--fill-color);\n",
              "      border-left-color: var(--fill-color);\n",
              "    }\n",
              "    20% {\n",
              "      border-color: transparent;\n",
              "      border-left-color: var(--fill-color);\n",
              "      border-top-color: var(--fill-color);\n",
              "    }\n",
              "    30% {\n",
              "      border-color: transparent;\n",
              "      border-left-color: var(--fill-color);\n",
              "      border-top-color: var(--fill-color);\n",
              "      border-right-color: var(--fill-color);\n",
              "    }\n",
              "    40% {\n",
              "      border-color: transparent;\n",
              "      border-right-color: var(--fill-color);\n",
              "      border-top-color: var(--fill-color);\n",
              "    }\n",
              "    60% {\n",
              "      border-color: transparent;\n",
              "      border-right-color: var(--fill-color);\n",
              "    }\n",
              "    80% {\n",
              "      border-color: transparent;\n",
              "      border-right-color: var(--fill-color);\n",
              "      border-bottom-color: var(--fill-color);\n",
              "    }\n",
              "    90% {\n",
              "      border-color: transparent;\n",
              "      border-bottom-color: var(--fill-color);\n",
              "    }\n",
              "  }\n",
              "</style>\n",
              "\n",
              "      <script>\n",
              "        async function quickchart(key) {\n",
              "          const quickchartButtonEl =\n",
              "            document.querySelector('#' + key + ' button');\n",
              "          quickchartButtonEl.disabled = true;  // To prevent multiple clicks.\n",
              "          quickchartButtonEl.classList.add('colab-df-spinner');\n",
              "          try {\n",
              "            const charts = await google.colab.kernel.invokeFunction(\n",
              "                'suggestCharts', [key], {});\n",
              "          } catch (error) {\n",
              "            console.error('Error during call to suggestCharts:', error);\n",
              "          }\n",
              "          quickchartButtonEl.classList.remove('colab-df-spinner');\n",
              "          quickchartButtonEl.classList.add('colab-df-quickchart-complete');\n",
              "        }\n",
              "        (() => {\n",
              "          let quickchartButtonEl =\n",
              "            document.querySelector('#df-dc24706c-bfea-4244-aa55-6d34c129e5d8 button');\n",
              "          quickchartButtonEl.style.display =\n",
              "            google.colab.kernel.accessAllowed ? 'block' : 'none';\n",
              "        })();\n",
              "      </script>\n",
              "    </div>\n",
              "\n",
              "    </div>\n",
              "  </div>\n"
            ],
            "application/vnd.google.colaboratory.intrinsic+json": {
              "type": "dataframe",
              "variable_name": "df",
              "summary": "{\n  \"name\": \"df\",\n  \"rows\": 2111,\n  \"fields\": [\n    {\n      \"column\": \"Age\",\n      \"properties\": {\n        \"dtype\": \"string\",\n        \"num_unique_values\": 1394,\n        \"samples\": [\n          \"21.012569\",\n          \"30.577944\",\n          \"30.002029\"\n        ],\n        \"semantic_type\": \"\",\n        \"description\": \"\"\n      }\n    },\n    {\n      \"column\": \"Gender\",\n      \"properties\": {\n        \"dtype\": \"category\",\n        \"num_unique_values\": 3,\n        \"samples\": [\n          \"Female\",\n          \"Male\",\n          \"?\"\n        ],\n        \"semantic_type\": \"\",\n        \"description\": \"\"\n      }\n    },\n    {\n      \"column\": \"Height\",\n      \"properties\": {\n        \"dtype\": \"string\",\n        \"num_unique_values\": 1562,\n        \"samples\": [\n          \"1.817917\",\n          \"1.699793\",\n          \"1.508908\"\n        ],\n        \"semantic_type\": \"\",\n        \"description\": \"\"\n      }\n    },\n    {\n      \"column\": \"Weight\",\n      \"properties\": {\n        \"dtype\": \"string\",\n        \"num_unique_values\": 1518,\n        \"samples\": [\n          \"49.105025\",\n          \"109.900472\",\n          \"104.585783\"\n        ],\n        \"semantic_type\": \"\",\n        \"description\": \"\"\n      }\n    },\n    {\n      \"column\": \"CALC\",\n      \"properties\": {\n        \"dtype\": \"category\",\n        \"num_unique_values\": 5,\n        \"samples\": [\n          \"Sometimes\",\n          \"Always\",\n          \"Frequently\"\n        ],\n        \"semantic_type\": \"\",\n        \"description\": \"\"\n      }\n    },\n    {\n      \"column\": \"FAVC\",\n      \"properties\": {\n        \"dtype\": \"category\",\n        \"num_unique_values\": 3,\n        \"samples\": [\n          \"no\",\n          \"yes\",\n          \"?\"\n        ],\n        \"semantic_type\": \"\",\n        \"description\": \"\"\n      }\n    },\n    {\n      \"column\": \"FCVC\",\n      \"properties\": {\n        \"dtype\": \"category\",\n        \"num_unique_values\": 808,\n        \"samples\": [\n          \"2.535154\",\n          \"2.951591\",\n          \"2.971588\"\n        ],\n        \"semantic_type\": \"\",\n        \"description\": \"\"\n      }\n    },\n    {\n      \"column\": \"NCP\",\n      \"properties\": {\n        \"dtype\": \"category\",\n        \"num_unique_values\": 637,\n        \"samples\": [\n          \"2.812283\",\n          \"2.118153\",\n          \"3.821168\"\n        ],\n        \"semantic_type\": \"\",\n        \"description\": \"\"\n      }\n    },\n    {\n      \"column\": \"SCC\",\n      \"properties\": {\n        \"dtype\": \"category\",\n        \"num_unique_values\": 3,\n        \"samples\": [\n          \"no\",\n          \"yes\",\n          \"?\"\n        ],\n        \"semantic_type\": \"\",\n        \"description\": \"\"\n      }\n    },\n    {\n      \"column\": \"SMOKE\",\n      \"properties\": {\n        \"dtype\": \"category\",\n        \"num_unique_values\": 3,\n        \"samples\": [\n          \"no\",\n          \"yes\",\n          \"?\"\n        ],\n        \"semantic_type\": \"\",\n        \"description\": \"\"\n      }\n    },\n    {\n      \"column\": \"CH2O\",\n      \"properties\": {\n        \"dtype\": \"string\",\n        \"num_unique_values\": 1263,\n        \"samples\": [\n          \"2.395387\",\n          \"1.01378\",\n          \"2.03415\"\n        ],\n        \"semantic_type\": \"\",\n        \"description\": \"\"\n      }\n    },\n    {\n      \"column\": \"family_history_with_overweight\",\n      \"properties\": {\n        \"dtype\": \"category\",\n        \"num_unique_values\": 3,\n        \"samples\": [\n          \"yes\",\n          \"no\",\n          \"?\"\n        ],\n        \"semantic_type\": \"\",\n        \"description\": \"\"\n      }\n    },\n    {\n      \"column\": \"FAF\",\n      \"properties\": {\n        \"dtype\": \"string\",\n        \"num_unique_values\": 1186,\n        \"samples\": [\n          \"1.609801\",\n          \"1.194898\",\n          \"1.34139\"\n        ],\n        \"semantic_type\": \"\",\n        \"description\": \"\"\n      }\n    },\n    {\n      \"column\": \"TUE\",\n      \"properties\": {\n        \"dtype\": \"string\",\n        \"num_unique_values\": 1130,\n        \"samples\": [\n          \"1.89933\",\n          \"0.930836\",\n          \"0.173232\"\n        ],\n        \"semantic_type\": \"\",\n        \"description\": \"\"\n      }\n    },\n    {\n      \"column\": \"CAEC\",\n      \"properties\": {\n        \"dtype\": \"category\",\n        \"num_unique_values\": 5,\n        \"samples\": [\n          \"Frequently\",\n          \"?\",\n          \"Always\"\n        ],\n        \"semantic_type\": \"\",\n        \"description\": \"\"\n      }\n    },\n    {\n      \"column\": \"MTRANS\",\n      \"properties\": {\n        \"dtype\": \"category\",\n        \"num_unique_values\": 6,\n        \"samples\": [\n          \"Public_Transportation\",\n          \"Walking\",\n          \"?\"\n        ],\n        \"semantic_type\": \"\",\n        \"description\": \"\"\n      }\n    },\n    {\n      \"column\": \"NObeyesdad\",\n      \"properties\": {\n        \"dtype\": \"category\",\n        \"num_unique_values\": 7,\n        \"samples\": [\n          \"Normal_Weight\",\n          \"Overweight_Level_I\",\n          \"Obesity_Type_II\"\n        ],\n        \"semantic_type\": \"\",\n        \"description\": \"\"\n      }\n    }\n  ]\n}"
            }
          },
          "metadata": {},
          "execution_count": 71
        }
      ]
    },
    {
      "cell_type": "markdown",
      "source": [
        "Penjelasan:\n",
        "\n",
        "head() melihat cuplikan awal data."
      ],
      "metadata": {
        "id": "xAOUSLJmmLr2"
      }
    },
    {
      "cell_type": "code",
      "source": [
        "# Menampilkan data setelah nama kolom berhasil diganti. (5 kolom terbawah)\n",
        "df.tail()"
      ],
      "metadata": {
        "colab": {
          "base_uri": "https://localhost:8080/",
          "height": 226
        },
        "id": "2Mousz5nimpX",
        "outputId": "d01a24d7-6aa1-4a03-eb3d-c8cce5b1cae5"
      },
      "execution_count": 72,
      "outputs": [
        {
          "output_type": "execute_result",
          "data": {
            "text/plain": [
              "            Age  Gender    Height      Weight       CALC FAVC FCVC NCP SCC  \\\n",
              "2106  20.976842  Female   1.71073  131.408528  Sometimes  yes    3   3  no   \n",
              "2107  21.982942  Female  1.748584  133.742943  Sometimes  yes    3   3  no   \n",
              "2108  22.524036  Female  1.752206  133.689352  Sometimes  yes    3   3  no   \n",
              "2109  24.361936  Female   1.73945  133.346641  Sometimes  yes    3   3  no   \n",
              "2110  23.664709  Female  1.738836  133.472641  Sometimes  yes    3   3  no   \n",
              "\n",
              "     SMOKE      CH2O family_history_with_overweight       FAF       TUE  \\\n",
              "2106    no  1.728139                            yes  1.676269  0.906247   \n",
              "2107    no   2.00513                            yes   1.34139   0.59927   \n",
              "2108    no  2.054193                            yes  1.414209  0.646288   \n",
              "2109    no  2.852339                            yes  1.139107  0.586035   \n",
              "2110    no  2.863513                            yes  1.026452  0.714137   \n",
              "\n",
              "           CAEC                 MTRANS        NObeyesdad  \n",
              "2106  Sometimes  Public_Transportation  Obesity_Type_III  \n",
              "2107  Sometimes  Public_Transportation  Obesity_Type_III  \n",
              "2108  Sometimes  Public_Transportation  Obesity_Type_III  \n",
              "2109  Sometimes  Public_Transportation  Obesity_Type_III  \n",
              "2110  Sometimes  Public_Transportation  Obesity_Type_III  "
            ],
            "text/html": [
              "\n",
              "  <div id=\"df-1d087dea-f86d-49ce-8cb6-fe792351ba24\" class=\"colab-df-container\">\n",
              "    <div>\n",
              "<style scoped>\n",
              "    .dataframe tbody tr th:only-of-type {\n",
              "        vertical-align: middle;\n",
              "    }\n",
              "\n",
              "    .dataframe tbody tr th {\n",
              "        vertical-align: top;\n",
              "    }\n",
              "\n",
              "    .dataframe thead th {\n",
              "        text-align: right;\n",
              "    }\n",
              "</style>\n",
              "<table border=\"1\" class=\"dataframe\">\n",
              "  <thead>\n",
              "    <tr style=\"text-align: right;\">\n",
              "      <th></th>\n",
              "      <th>Age</th>\n",
              "      <th>Gender</th>\n",
              "      <th>Height</th>\n",
              "      <th>Weight</th>\n",
              "      <th>CALC</th>\n",
              "      <th>FAVC</th>\n",
              "      <th>FCVC</th>\n",
              "      <th>NCP</th>\n",
              "      <th>SCC</th>\n",
              "      <th>SMOKE</th>\n",
              "      <th>CH2O</th>\n",
              "      <th>family_history_with_overweight</th>\n",
              "      <th>FAF</th>\n",
              "      <th>TUE</th>\n",
              "      <th>CAEC</th>\n",
              "      <th>MTRANS</th>\n",
              "      <th>NObeyesdad</th>\n",
              "    </tr>\n",
              "  </thead>\n",
              "  <tbody>\n",
              "    <tr>\n",
              "      <th>2106</th>\n",
              "      <td>20.976842</td>\n",
              "      <td>Female</td>\n",
              "      <td>1.71073</td>\n",
              "      <td>131.408528</td>\n",
              "      <td>Sometimes</td>\n",
              "      <td>yes</td>\n",
              "      <td>3</td>\n",
              "      <td>3</td>\n",
              "      <td>no</td>\n",
              "      <td>no</td>\n",
              "      <td>1.728139</td>\n",
              "      <td>yes</td>\n",
              "      <td>1.676269</td>\n",
              "      <td>0.906247</td>\n",
              "      <td>Sometimes</td>\n",
              "      <td>Public_Transportation</td>\n",
              "      <td>Obesity_Type_III</td>\n",
              "    </tr>\n",
              "    <tr>\n",
              "      <th>2107</th>\n",
              "      <td>21.982942</td>\n",
              "      <td>Female</td>\n",
              "      <td>1.748584</td>\n",
              "      <td>133.742943</td>\n",
              "      <td>Sometimes</td>\n",
              "      <td>yes</td>\n",
              "      <td>3</td>\n",
              "      <td>3</td>\n",
              "      <td>no</td>\n",
              "      <td>no</td>\n",
              "      <td>2.00513</td>\n",
              "      <td>yes</td>\n",
              "      <td>1.34139</td>\n",
              "      <td>0.59927</td>\n",
              "      <td>Sometimes</td>\n",
              "      <td>Public_Transportation</td>\n",
              "      <td>Obesity_Type_III</td>\n",
              "    </tr>\n",
              "    <tr>\n",
              "      <th>2108</th>\n",
              "      <td>22.524036</td>\n",
              "      <td>Female</td>\n",
              "      <td>1.752206</td>\n",
              "      <td>133.689352</td>\n",
              "      <td>Sometimes</td>\n",
              "      <td>yes</td>\n",
              "      <td>3</td>\n",
              "      <td>3</td>\n",
              "      <td>no</td>\n",
              "      <td>no</td>\n",
              "      <td>2.054193</td>\n",
              "      <td>yes</td>\n",
              "      <td>1.414209</td>\n",
              "      <td>0.646288</td>\n",
              "      <td>Sometimes</td>\n",
              "      <td>Public_Transportation</td>\n",
              "      <td>Obesity_Type_III</td>\n",
              "    </tr>\n",
              "    <tr>\n",
              "      <th>2109</th>\n",
              "      <td>24.361936</td>\n",
              "      <td>Female</td>\n",
              "      <td>1.73945</td>\n",
              "      <td>133.346641</td>\n",
              "      <td>Sometimes</td>\n",
              "      <td>yes</td>\n",
              "      <td>3</td>\n",
              "      <td>3</td>\n",
              "      <td>no</td>\n",
              "      <td>no</td>\n",
              "      <td>2.852339</td>\n",
              "      <td>yes</td>\n",
              "      <td>1.139107</td>\n",
              "      <td>0.586035</td>\n",
              "      <td>Sometimes</td>\n",
              "      <td>Public_Transportation</td>\n",
              "      <td>Obesity_Type_III</td>\n",
              "    </tr>\n",
              "    <tr>\n",
              "      <th>2110</th>\n",
              "      <td>23.664709</td>\n",
              "      <td>Female</td>\n",
              "      <td>1.738836</td>\n",
              "      <td>133.472641</td>\n",
              "      <td>Sometimes</td>\n",
              "      <td>yes</td>\n",
              "      <td>3</td>\n",
              "      <td>3</td>\n",
              "      <td>no</td>\n",
              "      <td>no</td>\n",
              "      <td>2.863513</td>\n",
              "      <td>yes</td>\n",
              "      <td>1.026452</td>\n",
              "      <td>0.714137</td>\n",
              "      <td>Sometimes</td>\n",
              "      <td>Public_Transportation</td>\n",
              "      <td>Obesity_Type_III</td>\n",
              "    </tr>\n",
              "  </tbody>\n",
              "</table>\n",
              "</div>\n",
              "    <div class=\"colab-df-buttons\">\n",
              "\n",
              "  <div class=\"colab-df-container\">\n",
              "    <button class=\"colab-df-convert\" onclick=\"convertToInteractive('df-1d087dea-f86d-49ce-8cb6-fe792351ba24')\"\n",
              "            title=\"Convert this dataframe to an interactive table.\"\n",
              "            style=\"display:none;\">\n",
              "\n",
              "  <svg xmlns=\"http://www.w3.org/2000/svg\" height=\"24px\" viewBox=\"0 -960 960 960\">\n",
              "    <path d=\"M120-120v-720h720v720H120Zm60-500h600v-160H180v160Zm220 220h160v-160H400v160Zm0 220h160v-160H400v160ZM180-400h160v-160H180v160Zm440 0h160v-160H620v160ZM180-180h160v-160H180v160Zm440 0h160v-160H620v160Z\"/>\n",
              "  </svg>\n",
              "    </button>\n",
              "\n",
              "  <style>\n",
              "    .colab-df-container {\n",
              "      display:flex;\n",
              "      gap: 12px;\n",
              "    }\n",
              "\n",
              "    .colab-df-convert {\n",
              "      background-color: #E8F0FE;\n",
              "      border: none;\n",
              "      border-radius: 50%;\n",
              "      cursor: pointer;\n",
              "      display: none;\n",
              "      fill: #1967D2;\n",
              "      height: 32px;\n",
              "      padding: 0 0 0 0;\n",
              "      width: 32px;\n",
              "    }\n",
              "\n",
              "    .colab-df-convert:hover {\n",
              "      background-color: #E2EBFA;\n",
              "      box-shadow: 0px 1px 2px rgba(60, 64, 67, 0.3), 0px 1px 3px 1px rgba(60, 64, 67, 0.15);\n",
              "      fill: #174EA6;\n",
              "    }\n",
              "\n",
              "    .colab-df-buttons div {\n",
              "      margin-bottom: 4px;\n",
              "    }\n",
              "\n",
              "    [theme=dark] .colab-df-convert {\n",
              "      background-color: #3B4455;\n",
              "      fill: #D2E3FC;\n",
              "    }\n",
              "\n",
              "    [theme=dark] .colab-df-convert:hover {\n",
              "      background-color: #434B5C;\n",
              "      box-shadow: 0px 1px 3px 1px rgba(0, 0, 0, 0.15);\n",
              "      filter: drop-shadow(0px 1px 2px rgba(0, 0, 0, 0.3));\n",
              "      fill: #FFFFFF;\n",
              "    }\n",
              "  </style>\n",
              "\n",
              "    <script>\n",
              "      const buttonEl =\n",
              "        document.querySelector('#df-1d087dea-f86d-49ce-8cb6-fe792351ba24 button.colab-df-convert');\n",
              "      buttonEl.style.display =\n",
              "        google.colab.kernel.accessAllowed ? 'block' : 'none';\n",
              "\n",
              "      async function convertToInteractive(key) {\n",
              "        const element = document.querySelector('#df-1d087dea-f86d-49ce-8cb6-fe792351ba24');\n",
              "        const dataTable =\n",
              "          await google.colab.kernel.invokeFunction('convertToInteractive',\n",
              "                                                    [key], {});\n",
              "        if (!dataTable) return;\n",
              "\n",
              "        const docLinkHtml = 'Like what you see? Visit the ' +\n",
              "          '<a target=\"_blank\" href=https://colab.research.google.com/notebooks/data_table.ipynb>data table notebook</a>'\n",
              "          + ' to learn more about interactive tables.';\n",
              "        element.innerHTML = '';\n",
              "        dataTable['output_type'] = 'display_data';\n",
              "        await google.colab.output.renderOutput(dataTable, element);\n",
              "        const docLink = document.createElement('div');\n",
              "        docLink.innerHTML = docLinkHtml;\n",
              "        element.appendChild(docLink);\n",
              "      }\n",
              "    </script>\n",
              "  </div>\n",
              "\n",
              "\n",
              "    <div id=\"df-9e9090be-583b-4e02-a8ac-3485637be615\">\n",
              "      <button class=\"colab-df-quickchart\" onclick=\"quickchart('df-9e9090be-583b-4e02-a8ac-3485637be615')\"\n",
              "                title=\"Suggest charts\"\n",
              "                style=\"display:none;\">\n",
              "\n",
              "<svg xmlns=\"http://www.w3.org/2000/svg\" height=\"24px\"viewBox=\"0 0 24 24\"\n",
              "     width=\"24px\">\n",
              "    <g>\n",
              "        <path d=\"M19 3H5c-1.1 0-2 .9-2 2v14c0 1.1.9 2 2 2h14c1.1 0 2-.9 2-2V5c0-1.1-.9-2-2-2zM9 17H7v-7h2v7zm4 0h-2V7h2v10zm4 0h-2v-4h2v4z\"/>\n",
              "    </g>\n",
              "</svg>\n",
              "      </button>\n",
              "\n",
              "<style>\n",
              "  .colab-df-quickchart {\n",
              "      --bg-color: #E8F0FE;\n",
              "      --fill-color: #1967D2;\n",
              "      --hover-bg-color: #E2EBFA;\n",
              "      --hover-fill-color: #174EA6;\n",
              "      --disabled-fill-color: #AAA;\n",
              "      --disabled-bg-color: #DDD;\n",
              "  }\n",
              "\n",
              "  [theme=dark] .colab-df-quickchart {\n",
              "      --bg-color: #3B4455;\n",
              "      --fill-color: #D2E3FC;\n",
              "      --hover-bg-color: #434B5C;\n",
              "      --hover-fill-color: #FFFFFF;\n",
              "      --disabled-bg-color: #3B4455;\n",
              "      --disabled-fill-color: #666;\n",
              "  }\n",
              "\n",
              "  .colab-df-quickchart {\n",
              "    background-color: var(--bg-color);\n",
              "    border: none;\n",
              "    border-radius: 50%;\n",
              "    cursor: pointer;\n",
              "    display: none;\n",
              "    fill: var(--fill-color);\n",
              "    height: 32px;\n",
              "    padding: 0;\n",
              "    width: 32px;\n",
              "  }\n",
              "\n",
              "  .colab-df-quickchart:hover {\n",
              "    background-color: var(--hover-bg-color);\n",
              "    box-shadow: 0 1px 2px rgba(60, 64, 67, 0.3), 0 1px 3px 1px rgba(60, 64, 67, 0.15);\n",
              "    fill: var(--button-hover-fill-color);\n",
              "  }\n",
              "\n",
              "  .colab-df-quickchart-complete:disabled,\n",
              "  .colab-df-quickchart-complete:disabled:hover {\n",
              "    background-color: var(--disabled-bg-color);\n",
              "    fill: var(--disabled-fill-color);\n",
              "    box-shadow: none;\n",
              "  }\n",
              "\n",
              "  .colab-df-spinner {\n",
              "    border: 2px solid var(--fill-color);\n",
              "    border-color: transparent;\n",
              "    border-bottom-color: var(--fill-color);\n",
              "    animation:\n",
              "      spin 1s steps(1) infinite;\n",
              "  }\n",
              "\n",
              "  @keyframes spin {\n",
              "    0% {\n",
              "      border-color: transparent;\n",
              "      border-bottom-color: var(--fill-color);\n",
              "      border-left-color: var(--fill-color);\n",
              "    }\n",
              "    20% {\n",
              "      border-color: transparent;\n",
              "      border-left-color: var(--fill-color);\n",
              "      border-top-color: var(--fill-color);\n",
              "    }\n",
              "    30% {\n",
              "      border-color: transparent;\n",
              "      border-left-color: var(--fill-color);\n",
              "      border-top-color: var(--fill-color);\n",
              "      border-right-color: var(--fill-color);\n",
              "    }\n",
              "    40% {\n",
              "      border-color: transparent;\n",
              "      border-right-color: var(--fill-color);\n",
              "      border-top-color: var(--fill-color);\n",
              "    }\n",
              "    60% {\n",
              "      border-color: transparent;\n",
              "      border-right-color: var(--fill-color);\n",
              "    }\n",
              "    80% {\n",
              "      border-color: transparent;\n",
              "      border-right-color: var(--fill-color);\n",
              "      border-bottom-color: var(--fill-color);\n",
              "    }\n",
              "    90% {\n",
              "      border-color: transparent;\n",
              "      border-bottom-color: var(--fill-color);\n",
              "    }\n",
              "  }\n",
              "</style>\n",
              "\n",
              "      <script>\n",
              "        async function quickchart(key) {\n",
              "          const quickchartButtonEl =\n",
              "            document.querySelector('#' + key + ' button');\n",
              "          quickchartButtonEl.disabled = true;  // To prevent multiple clicks.\n",
              "          quickchartButtonEl.classList.add('colab-df-spinner');\n",
              "          try {\n",
              "            const charts = await google.colab.kernel.invokeFunction(\n",
              "                'suggestCharts', [key], {});\n",
              "          } catch (error) {\n",
              "            console.error('Error during call to suggestCharts:', error);\n",
              "          }\n",
              "          quickchartButtonEl.classList.remove('colab-df-spinner');\n",
              "          quickchartButtonEl.classList.add('colab-df-quickchart-complete');\n",
              "        }\n",
              "        (() => {\n",
              "          let quickchartButtonEl =\n",
              "            document.querySelector('#df-9e9090be-583b-4e02-a8ac-3485637be615 button');\n",
              "          quickchartButtonEl.style.display =\n",
              "            google.colab.kernel.accessAllowed ? 'block' : 'none';\n",
              "        })();\n",
              "      </script>\n",
              "    </div>\n",
              "\n",
              "    </div>\n",
              "  </div>\n"
            ],
            "application/vnd.google.colaboratory.intrinsic+json": {
              "type": "dataframe",
              "summary": "{\n  \"name\": \"df\",\n  \"rows\": 5,\n  \"fields\": [\n    {\n      \"column\": \"Age\",\n      \"properties\": {\n        \"dtype\": \"string\",\n        \"num_unique_values\": 5,\n        \"samples\": [\n          \"21.982942\",\n          \"23.664709\",\n          \"22.524036\"\n        ],\n        \"semantic_type\": \"\",\n        \"description\": \"\"\n      }\n    },\n    {\n      \"column\": \"Gender\",\n      \"properties\": {\n        \"dtype\": \"category\",\n        \"num_unique_values\": 1,\n        \"samples\": [\n          \"Female\"\n        ],\n        \"semantic_type\": \"\",\n        \"description\": \"\"\n      }\n    },\n    {\n      \"column\": \"Height\",\n      \"properties\": {\n        \"dtype\": \"string\",\n        \"num_unique_values\": 5,\n        \"samples\": [\n          \"1.748584\"\n        ],\n        \"semantic_type\": \"\",\n        \"description\": \"\"\n      }\n    },\n    {\n      \"column\": \"Weight\",\n      \"properties\": {\n        \"dtype\": \"string\",\n        \"num_unique_values\": 5,\n        \"samples\": [\n          \"133.742943\"\n        ],\n        \"semantic_type\": \"\",\n        \"description\": \"\"\n      }\n    },\n    {\n      \"column\": \"CALC\",\n      \"properties\": {\n        \"dtype\": \"category\",\n        \"num_unique_values\": 1,\n        \"samples\": [\n          \"Sometimes\"\n        ],\n        \"semantic_type\": \"\",\n        \"description\": \"\"\n      }\n    },\n    {\n      \"column\": \"FAVC\",\n      \"properties\": {\n        \"dtype\": \"category\",\n        \"num_unique_values\": 1,\n        \"samples\": [\n          \"yes\"\n        ],\n        \"semantic_type\": \"\",\n        \"description\": \"\"\n      }\n    },\n    {\n      \"column\": \"FCVC\",\n      \"properties\": {\n        \"dtype\": \"category\",\n        \"num_unique_values\": 1,\n        \"samples\": [\n          \"3\"\n        ],\n        \"semantic_type\": \"\",\n        \"description\": \"\"\n      }\n    },\n    {\n      \"column\": \"NCP\",\n      \"properties\": {\n        \"dtype\": \"category\",\n        \"num_unique_values\": 1,\n        \"samples\": [\n          \"3\"\n        ],\n        \"semantic_type\": \"\",\n        \"description\": \"\"\n      }\n    },\n    {\n      \"column\": \"SCC\",\n      \"properties\": {\n        \"dtype\": \"category\",\n        \"num_unique_values\": 1,\n        \"samples\": [\n          \"no\"\n        ],\n        \"semantic_type\": \"\",\n        \"description\": \"\"\n      }\n    },\n    {\n      \"column\": \"SMOKE\",\n      \"properties\": {\n        \"dtype\": \"category\",\n        \"num_unique_values\": 1,\n        \"samples\": [\n          \"no\"\n        ],\n        \"semantic_type\": \"\",\n        \"description\": \"\"\n      }\n    },\n    {\n      \"column\": \"CH2O\",\n      \"properties\": {\n        \"dtype\": \"string\",\n        \"num_unique_values\": 5,\n        \"samples\": [\n          \"2.00513\"\n        ],\n        \"semantic_type\": \"\",\n        \"description\": \"\"\n      }\n    },\n    {\n      \"column\": \"family_history_with_overweight\",\n      \"properties\": {\n        \"dtype\": \"category\",\n        \"num_unique_values\": 1,\n        \"samples\": [\n          \"yes\"\n        ],\n        \"semantic_type\": \"\",\n        \"description\": \"\"\n      }\n    },\n    {\n      \"column\": \"FAF\",\n      \"properties\": {\n        \"dtype\": \"string\",\n        \"num_unique_values\": 5,\n        \"samples\": [\n          \"1.34139\"\n        ],\n        \"semantic_type\": \"\",\n        \"description\": \"\"\n      }\n    },\n    {\n      \"column\": \"TUE\",\n      \"properties\": {\n        \"dtype\": \"string\",\n        \"num_unique_values\": 5,\n        \"samples\": [\n          \"0.59927\"\n        ],\n        \"semantic_type\": \"\",\n        \"description\": \"\"\n      }\n    },\n    {\n      \"column\": \"CAEC\",\n      \"properties\": {\n        \"dtype\": \"category\",\n        \"num_unique_values\": 1,\n        \"samples\": [\n          \"Sometimes\"\n        ],\n        \"semantic_type\": \"\",\n        \"description\": \"\"\n      }\n    },\n    {\n      \"column\": \"MTRANS\",\n      \"properties\": {\n        \"dtype\": \"category\",\n        \"num_unique_values\": 1,\n        \"samples\": [\n          \"Public_Transportation\"\n        ],\n        \"semantic_type\": \"\",\n        \"description\": \"\"\n      }\n    },\n    {\n      \"column\": \"NObeyesdad\",\n      \"properties\": {\n        \"dtype\": \"category\",\n        \"num_unique_values\": 1,\n        \"samples\": [\n          \"Obesity_Type_III\"\n        ],\n        \"semantic_type\": \"\",\n        \"description\": \"\"\n      }\n    }\n  ]\n}"
            }
          },
          "metadata": {},
          "execution_count": 72
        }
      ]
    },
    {
      "cell_type": "markdown",
      "source": [
        "Penjelasan:\n",
        "\n",
        "tail() melihat cuplikan akhir data."
      ],
      "metadata": {
        "id": "3rse8aOv3jcQ"
      }
    },
    {
      "cell_type": "code",
      "source": [
        "# Menampilkan dimensi Dataset\n",
        "df.shape"
      ],
      "metadata": {
        "colab": {
          "base_uri": "https://localhost:8080/"
        },
        "id": "OazzYHnPitf8",
        "outputId": "5e350c0c-a889-4cb2-a6ce-170c7383782a"
      },
      "execution_count": 73,
      "outputs": [
        {
          "output_type": "execute_result",
          "data": {
            "text/plain": [
              "(2111, 17)"
            ]
          },
          "metadata": {},
          "execution_count": 73
        }
      ]
    },
    {
      "cell_type": "code",
      "source": [
        "# Melihat info umum dataset: jumlah kolom, tipe data, non-null count\n",
        "df.info()"
      ],
      "metadata": {
        "colab": {
          "base_uri": "https://localhost:8080/"
        },
        "id": "VuXyAjrQSo6w",
        "outputId": "576f4f91-cac5-420f-cd55-61b366b4199a"
      },
      "execution_count": 74,
      "outputs": [
        {
          "output_type": "stream",
          "name": "stdout",
          "text": [
            "<class 'pandas.core.frame.DataFrame'>\n",
            "RangeIndex: 2111 entries, 0 to 2110\n",
            "Data columns (total 17 columns):\n",
            " #   Column                          Non-Null Count  Dtype \n",
            "---  ------                          --------------  ----- \n",
            " 0   Age                             2097 non-null   object\n",
            " 1   Gender                          2102 non-null   object\n",
            " 2   Height                          2099 non-null   object\n",
            " 3   Weight                          2100 non-null   object\n",
            " 4   CALC                            2106 non-null   object\n",
            " 5   FAVC                            2100 non-null   object\n",
            " 6   FCVC                            2103 non-null   object\n",
            " 7   NCP                             2099 non-null   object\n",
            " 8   SCC                             2101 non-null   object\n",
            " 9   SMOKE                           2106 non-null   object\n",
            " 10  CH2O                            2105 non-null   object\n",
            " 11  family_history_with_overweight  2098 non-null   object\n",
            " 12  FAF                             2103 non-null   object\n",
            " 13  TUE                             2102 non-null   object\n",
            " 14  CAEC                            2100 non-null   object\n",
            " 15  MTRANS                          2105 non-null   object\n",
            " 16  NObeyesdad                      2111 non-null   object\n",
            "dtypes: object(17)\n",
            "memory usage: 280.5+ KB\n"
          ]
        }
      ]
    },
    {
      "cell_type": "markdown",
      "source": [
        "Penjelasan :\n",
        "info() menampilkan jumlah kolom, tipe data, dan non-null."
      ],
      "metadata": {
        "id": "IiKFuyRc1cJK"
      }
    },
    {
      "cell_type": "code",
      "source": [
        "# Statistik deskriptif seluruh kolom (numerik dan kategorikal)\n",
        "df.describe()\n"
      ],
      "metadata": {
        "colab": {
          "base_uri": "https://localhost:8080/",
          "height": 195
        },
        "id": "izg2eNlAlaY9",
        "outputId": "33d79c1f-91b7-4b5b-a9e2-c683c1d45a53"
      },
      "execution_count": 75,
      "outputs": [
        {
          "output_type": "execute_result",
          "data": {
            "text/plain": [
              "         Age Gender Height Weight       CALC  FAVC  FCVC   NCP   SCC SMOKE  \\\n",
              "count   2097   2102   2099   2100       2106  2100  2103  2099  2101  2106   \n",
              "unique  1394      3   1562   1518          5     3   808   637     3     3   \n",
              "top       18   Male    1.7     80  Sometimes   yes     3     3    no    no   \n",
              "freq     124   1056     58     58       1386  1844   647  1183  1997  2054   \n",
              "\n",
              "        CH2O family_history_with_overweight   FAF   TUE       CAEC  \\\n",
              "count   2105                           2098  2103  2102       2100   \n",
              "unique  1263                              3  1186  1130          5   \n",
              "top        2                            yes     0     0  Sometimes   \n",
              "freq     441                           1705   404   552       1747   \n",
              "\n",
              "                       MTRANS      NObeyesdad  \n",
              "count                    2105            2111  \n",
              "unique                      6               7  \n",
              "top     Public_Transportation  Obesity_Type_I  \n",
              "freq                     1572             351  "
            ],
            "text/html": [
              "\n",
              "  <div id=\"df-a24d873b-8d66-44e4-a37f-3498e340065e\" class=\"colab-df-container\">\n",
              "    <div>\n",
              "<style scoped>\n",
              "    .dataframe tbody tr th:only-of-type {\n",
              "        vertical-align: middle;\n",
              "    }\n",
              "\n",
              "    .dataframe tbody tr th {\n",
              "        vertical-align: top;\n",
              "    }\n",
              "\n",
              "    .dataframe thead th {\n",
              "        text-align: right;\n",
              "    }\n",
              "</style>\n",
              "<table border=\"1\" class=\"dataframe\">\n",
              "  <thead>\n",
              "    <tr style=\"text-align: right;\">\n",
              "      <th></th>\n",
              "      <th>Age</th>\n",
              "      <th>Gender</th>\n",
              "      <th>Height</th>\n",
              "      <th>Weight</th>\n",
              "      <th>CALC</th>\n",
              "      <th>FAVC</th>\n",
              "      <th>FCVC</th>\n",
              "      <th>NCP</th>\n",
              "      <th>SCC</th>\n",
              "      <th>SMOKE</th>\n",
              "      <th>CH2O</th>\n",
              "      <th>family_history_with_overweight</th>\n",
              "      <th>FAF</th>\n",
              "      <th>TUE</th>\n",
              "      <th>CAEC</th>\n",
              "      <th>MTRANS</th>\n",
              "      <th>NObeyesdad</th>\n",
              "    </tr>\n",
              "  </thead>\n",
              "  <tbody>\n",
              "    <tr>\n",
              "      <th>count</th>\n",
              "      <td>2097</td>\n",
              "      <td>2102</td>\n",
              "      <td>2099</td>\n",
              "      <td>2100</td>\n",
              "      <td>2106</td>\n",
              "      <td>2100</td>\n",
              "      <td>2103</td>\n",
              "      <td>2099</td>\n",
              "      <td>2101</td>\n",
              "      <td>2106</td>\n",
              "      <td>2105</td>\n",
              "      <td>2098</td>\n",
              "      <td>2103</td>\n",
              "      <td>2102</td>\n",
              "      <td>2100</td>\n",
              "      <td>2105</td>\n",
              "      <td>2111</td>\n",
              "    </tr>\n",
              "    <tr>\n",
              "      <th>unique</th>\n",
              "      <td>1394</td>\n",
              "      <td>3</td>\n",
              "      <td>1562</td>\n",
              "      <td>1518</td>\n",
              "      <td>5</td>\n",
              "      <td>3</td>\n",
              "      <td>808</td>\n",
              "      <td>637</td>\n",
              "      <td>3</td>\n",
              "      <td>3</td>\n",
              "      <td>1263</td>\n",
              "      <td>3</td>\n",
              "      <td>1186</td>\n",
              "      <td>1130</td>\n",
              "      <td>5</td>\n",
              "      <td>6</td>\n",
              "      <td>7</td>\n",
              "    </tr>\n",
              "    <tr>\n",
              "      <th>top</th>\n",
              "      <td>18</td>\n",
              "      <td>Male</td>\n",
              "      <td>1.7</td>\n",
              "      <td>80</td>\n",
              "      <td>Sometimes</td>\n",
              "      <td>yes</td>\n",
              "      <td>3</td>\n",
              "      <td>3</td>\n",
              "      <td>no</td>\n",
              "      <td>no</td>\n",
              "      <td>2</td>\n",
              "      <td>yes</td>\n",
              "      <td>0</td>\n",
              "      <td>0</td>\n",
              "      <td>Sometimes</td>\n",
              "      <td>Public_Transportation</td>\n",
              "      <td>Obesity_Type_I</td>\n",
              "    </tr>\n",
              "    <tr>\n",
              "      <th>freq</th>\n",
              "      <td>124</td>\n",
              "      <td>1056</td>\n",
              "      <td>58</td>\n",
              "      <td>58</td>\n",
              "      <td>1386</td>\n",
              "      <td>1844</td>\n",
              "      <td>647</td>\n",
              "      <td>1183</td>\n",
              "      <td>1997</td>\n",
              "      <td>2054</td>\n",
              "      <td>441</td>\n",
              "      <td>1705</td>\n",
              "      <td>404</td>\n",
              "      <td>552</td>\n",
              "      <td>1747</td>\n",
              "      <td>1572</td>\n",
              "      <td>351</td>\n",
              "    </tr>\n",
              "  </tbody>\n",
              "</table>\n",
              "</div>\n",
              "    <div class=\"colab-df-buttons\">\n",
              "\n",
              "  <div class=\"colab-df-container\">\n",
              "    <button class=\"colab-df-convert\" onclick=\"convertToInteractive('df-a24d873b-8d66-44e4-a37f-3498e340065e')\"\n",
              "            title=\"Convert this dataframe to an interactive table.\"\n",
              "            style=\"display:none;\">\n",
              "\n",
              "  <svg xmlns=\"http://www.w3.org/2000/svg\" height=\"24px\" viewBox=\"0 -960 960 960\">\n",
              "    <path d=\"M120-120v-720h720v720H120Zm60-500h600v-160H180v160Zm220 220h160v-160H400v160Zm0 220h160v-160H400v160ZM180-400h160v-160H180v160Zm440 0h160v-160H620v160ZM180-180h160v-160H180v160Zm440 0h160v-160H620v160Z\"/>\n",
              "  </svg>\n",
              "    </button>\n",
              "\n",
              "  <style>\n",
              "    .colab-df-container {\n",
              "      display:flex;\n",
              "      gap: 12px;\n",
              "    }\n",
              "\n",
              "    .colab-df-convert {\n",
              "      background-color: #E8F0FE;\n",
              "      border: none;\n",
              "      border-radius: 50%;\n",
              "      cursor: pointer;\n",
              "      display: none;\n",
              "      fill: #1967D2;\n",
              "      height: 32px;\n",
              "      padding: 0 0 0 0;\n",
              "      width: 32px;\n",
              "    }\n",
              "\n",
              "    .colab-df-convert:hover {\n",
              "      background-color: #E2EBFA;\n",
              "      box-shadow: 0px 1px 2px rgba(60, 64, 67, 0.3), 0px 1px 3px 1px rgba(60, 64, 67, 0.15);\n",
              "      fill: #174EA6;\n",
              "    }\n",
              "\n",
              "    .colab-df-buttons div {\n",
              "      margin-bottom: 4px;\n",
              "    }\n",
              "\n",
              "    [theme=dark] .colab-df-convert {\n",
              "      background-color: #3B4455;\n",
              "      fill: #D2E3FC;\n",
              "    }\n",
              "\n",
              "    [theme=dark] .colab-df-convert:hover {\n",
              "      background-color: #434B5C;\n",
              "      box-shadow: 0px 1px 3px 1px rgba(0, 0, 0, 0.15);\n",
              "      filter: drop-shadow(0px 1px 2px rgba(0, 0, 0, 0.3));\n",
              "      fill: #FFFFFF;\n",
              "    }\n",
              "  </style>\n",
              "\n",
              "    <script>\n",
              "      const buttonEl =\n",
              "        document.querySelector('#df-a24d873b-8d66-44e4-a37f-3498e340065e button.colab-df-convert');\n",
              "      buttonEl.style.display =\n",
              "        google.colab.kernel.accessAllowed ? 'block' : 'none';\n",
              "\n",
              "      async function convertToInteractive(key) {\n",
              "        const element = document.querySelector('#df-a24d873b-8d66-44e4-a37f-3498e340065e');\n",
              "        const dataTable =\n",
              "          await google.colab.kernel.invokeFunction('convertToInteractive',\n",
              "                                                    [key], {});\n",
              "        if (!dataTable) return;\n",
              "\n",
              "        const docLinkHtml = 'Like what you see? Visit the ' +\n",
              "          '<a target=\"_blank\" href=https://colab.research.google.com/notebooks/data_table.ipynb>data table notebook</a>'\n",
              "          + ' to learn more about interactive tables.';\n",
              "        element.innerHTML = '';\n",
              "        dataTable['output_type'] = 'display_data';\n",
              "        await google.colab.output.renderOutput(dataTable, element);\n",
              "        const docLink = document.createElement('div');\n",
              "        docLink.innerHTML = docLinkHtml;\n",
              "        element.appendChild(docLink);\n",
              "      }\n",
              "    </script>\n",
              "  </div>\n",
              "\n",
              "\n",
              "    <div id=\"df-c33839c0-bc16-497b-a257-d2663abbd591\">\n",
              "      <button class=\"colab-df-quickchart\" onclick=\"quickchart('df-c33839c0-bc16-497b-a257-d2663abbd591')\"\n",
              "                title=\"Suggest charts\"\n",
              "                style=\"display:none;\">\n",
              "\n",
              "<svg xmlns=\"http://www.w3.org/2000/svg\" height=\"24px\"viewBox=\"0 0 24 24\"\n",
              "     width=\"24px\">\n",
              "    <g>\n",
              "        <path d=\"M19 3H5c-1.1 0-2 .9-2 2v14c0 1.1.9 2 2 2h14c1.1 0 2-.9 2-2V5c0-1.1-.9-2-2-2zM9 17H7v-7h2v7zm4 0h-2V7h2v10zm4 0h-2v-4h2v4z\"/>\n",
              "    </g>\n",
              "</svg>\n",
              "      </button>\n",
              "\n",
              "<style>\n",
              "  .colab-df-quickchart {\n",
              "      --bg-color: #E8F0FE;\n",
              "      --fill-color: #1967D2;\n",
              "      --hover-bg-color: #E2EBFA;\n",
              "      --hover-fill-color: #174EA6;\n",
              "      --disabled-fill-color: #AAA;\n",
              "      --disabled-bg-color: #DDD;\n",
              "  }\n",
              "\n",
              "  [theme=dark] .colab-df-quickchart {\n",
              "      --bg-color: #3B4455;\n",
              "      --fill-color: #D2E3FC;\n",
              "      --hover-bg-color: #434B5C;\n",
              "      --hover-fill-color: #FFFFFF;\n",
              "      --disabled-bg-color: #3B4455;\n",
              "      --disabled-fill-color: #666;\n",
              "  }\n",
              "\n",
              "  .colab-df-quickchart {\n",
              "    background-color: var(--bg-color);\n",
              "    border: none;\n",
              "    border-radius: 50%;\n",
              "    cursor: pointer;\n",
              "    display: none;\n",
              "    fill: var(--fill-color);\n",
              "    height: 32px;\n",
              "    padding: 0;\n",
              "    width: 32px;\n",
              "  }\n",
              "\n",
              "  .colab-df-quickchart:hover {\n",
              "    background-color: var(--hover-bg-color);\n",
              "    box-shadow: 0 1px 2px rgba(60, 64, 67, 0.3), 0 1px 3px 1px rgba(60, 64, 67, 0.15);\n",
              "    fill: var(--button-hover-fill-color);\n",
              "  }\n",
              "\n",
              "  .colab-df-quickchart-complete:disabled,\n",
              "  .colab-df-quickchart-complete:disabled:hover {\n",
              "    background-color: var(--disabled-bg-color);\n",
              "    fill: var(--disabled-fill-color);\n",
              "    box-shadow: none;\n",
              "  }\n",
              "\n",
              "  .colab-df-spinner {\n",
              "    border: 2px solid var(--fill-color);\n",
              "    border-color: transparent;\n",
              "    border-bottom-color: var(--fill-color);\n",
              "    animation:\n",
              "      spin 1s steps(1) infinite;\n",
              "  }\n",
              "\n",
              "  @keyframes spin {\n",
              "    0% {\n",
              "      border-color: transparent;\n",
              "      border-bottom-color: var(--fill-color);\n",
              "      border-left-color: var(--fill-color);\n",
              "    }\n",
              "    20% {\n",
              "      border-color: transparent;\n",
              "      border-left-color: var(--fill-color);\n",
              "      border-top-color: var(--fill-color);\n",
              "    }\n",
              "    30% {\n",
              "      border-color: transparent;\n",
              "      border-left-color: var(--fill-color);\n",
              "      border-top-color: var(--fill-color);\n",
              "      border-right-color: var(--fill-color);\n",
              "    }\n",
              "    40% {\n",
              "      border-color: transparent;\n",
              "      border-right-color: var(--fill-color);\n",
              "      border-top-color: var(--fill-color);\n",
              "    }\n",
              "    60% {\n",
              "      border-color: transparent;\n",
              "      border-right-color: var(--fill-color);\n",
              "    }\n",
              "    80% {\n",
              "      border-color: transparent;\n",
              "      border-right-color: var(--fill-color);\n",
              "      border-bottom-color: var(--fill-color);\n",
              "    }\n",
              "    90% {\n",
              "      border-color: transparent;\n",
              "      border-bottom-color: var(--fill-color);\n",
              "    }\n",
              "  }\n",
              "</style>\n",
              "\n",
              "      <script>\n",
              "        async function quickchart(key) {\n",
              "          const quickchartButtonEl =\n",
              "            document.querySelector('#' + key + ' button');\n",
              "          quickchartButtonEl.disabled = true;  // To prevent multiple clicks.\n",
              "          quickchartButtonEl.classList.add('colab-df-spinner');\n",
              "          try {\n",
              "            const charts = await google.colab.kernel.invokeFunction(\n",
              "                'suggestCharts', [key], {});\n",
              "          } catch (error) {\n",
              "            console.error('Error during call to suggestCharts:', error);\n",
              "          }\n",
              "          quickchartButtonEl.classList.remove('colab-df-spinner');\n",
              "          quickchartButtonEl.classList.add('colab-df-quickchart-complete');\n",
              "        }\n",
              "        (() => {\n",
              "          let quickchartButtonEl =\n",
              "            document.querySelector('#df-c33839c0-bc16-497b-a257-d2663abbd591 button');\n",
              "          quickchartButtonEl.style.display =\n",
              "            google.colab.kernel.accessAllowed ? 'block' : 'none';\n",
              "        })();\n",
              "      </script>\n",
              "    </div>\n",
              "\n",
              "    </div>\n",
              "  </div>\n"
            ],
            "application/vnd.google.colaboratory.intrinsic+json": {
              "type": "dataframe",
              "summary": "{\n  \"name\": \"df\",\n  \"rows\": 4,\n  \"fields\": [\n    {\n      \"column\": \"Age\",\n      \"properties\": {\n        \"dtype\": \"string\",\n        \"num_unique_values\": 4,\n        \"samples\": [\n          1394,\n          \"124\",\n          \"2097\"\n        ],\n        \"semantic_type\": \"\",\n        \"description\": \"\"\n      }\n    },\n    {\n      \"column\": \"Gender\",\n      \"properties\": {\n        \"dtype\": \"string\",\n        \"num_unique_values\": 4,\n        \"samples\": [\n          3,\n          \"1056\",\n          \"2102\"\n        ],\n        \"semantic_type\": \"\",\n        \"description\": \"\"\n      }\n    },\n    {\n      \"column\": \"Height\",\n      \"properties\": {\n        \"dtype\": \"string\",\n        \"num_unique_values\": 4,\n        \"samples\": [\n          1562,\n          \"58\",\n          \"2099\"\n        ],\n        \"semantic_type\": \"\",\n        \"description\": \"\"\n      }\n    },\n    {\n      \"column\": \"Weight\",\n      \"properties\": {\n        \"dtype\": \"string\",\n        \"num_unique_values\": 4,\n        \"samples\": [\n          1518,\n          \"58\",\n          \"2100\"\n        ],\n        \"semantic_type\": \"\",\n        \"description\": \"\"\n      }\n    },\n    {\n      \"column\": \"CALC\",\n      \"properties\": {\n        \"dtype\": \"string\",\n        \"num_unique_values\": 4,\n        \"samples\": [\n          5,\n          \"1386\",\n          \"2106\"\n        ],\n        \"semantic_type\": \"\",\n        \"description\": \"\"\n      }\n    },\n    {\n      \"column\": \"FAVC\",\n      \"properties\": {\n        \"dtype\": \"string\",\n        \"num_unique_values\": 4,\n        \"samples\": [\n          3,\n          \"1844\",\n          \"2100\"\n        ],\n        \"semantic_type\": \"\",\n        \"description\": \"\"\n      }\n    },\n    {\n      \"column\": \"FCVC\",\n      \"properties\": {\n        \"dtype\": \"string\",\n        \"num_unique_values\": 4,\n        \"samples\": [\n          808,\n          \"647\",\n          \"2103\"\n        ],\n        \"semantic_type\": \"\",\n        \"description\": \"\"\n      }\n    },\n    {\n      \"column\": \"NCP\",\n      \"properties\": {\n        \"dtype\": \"string\",\n        \"num_unique_values\": 4,\n        \"samples\": [\n          637,\n          \"1183\",\n          \"2099\"\n        ],\n        \"semantic_type\": \"\",\n        \"description\": \"\"\n      }\n    },\n    {\n      \"column\": \"SCC\",\n      \"properties\": {\n        \"dtype\": \"string\",\n        \"num_unique_values\": 4,\n        \"samples\": [\n          3,\n          \"1997\",\n          \"2101\"\n        ],\n        \"semantic_type\": \"\",\n        \"description\": \"\"\n      }\n    },\n    {\n      \"column\": \"SMOKE\",\n      \"properties\": {\n        \"dtype\": \"string\",\n        \"num_unique_values\": 4,\n        \"samples\": [\n          3,\n          \"2054\",\n          \"2106\"\n        ],\n        \"semantic_type\": \"\",\n        \"description\": \"\"\n      }\n    },\n    {\n      \"column\": \"CH2O\",\n      \"properties\": {\n        \"dtype\": \"string\",\n        \"num_unique_values\": 4,\n        \"samples\": [\n          1263,\n          \"441\",\n          \"2105\"\n        ],\n        \"semantic_type\": \"\",\n        \"description\": \"\"\n      }\n    },\n    {\n      \"column\": \"family_history_with_overweight\",\n      \"properties\": {\n        \"dtype\": \"string\",\n        \"num_unique_values\": 4,\n        \"samples\": [\n          3,\n          \"1705\",\n          \"2098\"\n        ],\n        \"semantic_type\": \"\",\n        \"description\": \"\"\n      }\n    },\n    {\n      \"column\": \"FAF\",\n      \"properties\": {\n        \"dtype\": \"string\",\n        \"num_unique_values\": 4,\n        \"samples\": [\n          1186,\n          \"404\",\n          \"2103\"\n        ],\n        \"semantic_type\": \"\",\n        \"description\": \"\"\n      }\n    },\n    {\n      \"column\": \"TUE\",\n      \"properties\": {\n        \"dtype\": \"string\",\n        \"num_unique_values\": 4,\n        \"samples\": [\n          1130,\n          \"552\",\n          \"2102\"\n        ],\n        \"semantic_type\": \"\",\n        \"description\": \"\"\n      }\n    },\n    {\n      \"column\": \"CAEC\",\n      \"properties\": {\n        \"dtype\": \"string\",\n        \"num_unique_values\": 4,\n        \"samples\": [\n          5,\n          \"1747\",\n          \"2100\"\n        ],\n        \"semantic_type\": \"\",\n        \"description\": \"\"\n      }\n    },\n    {\n      \"column\": \"MTRANS\",\n      \"properties\": {\n        \"dtype\": \"string\",\n        \"num_unique_values\": 4,\n        \"samples\": [\n          6,\n          \"1572\",\n          \"2105\"\n        ],\n        \"semantic_type\": \"\",\n        \"description\": \"\"\n      }\n    },\n    {\n      \"column\": \"NObeyesdad\",\n      \"properties\": {\n        \"dtype\": \"string\",\n        \"num_unique_values\": 4,\n        \"samples\": [\n          7,\n          \"351\",\n          \"2111\"\n        ],\n        \"semantic_type\": \"\",\n        \"description\": \"\"\n      }\n    }\n  ]\n}"
            }
          },
          "metadata": {},
          "execution_count": 75
        }
      ]
    },
    {
      "cell_type": "markdown",
      "source": [
        "Penjelasan: describe() menunjukkan statistik seperti mean, min, max."
      ],
      "metadata": {
        "id": "QbWB4RXMmd_8"
      }
    },
    {
      "cell_type": "code",
      "source": [
        "# Mengecek apakah ada nilai kosong (missing values),  Menampilkan jumlah missing value per kolom.\n",
        "df.isnull().sum()"
      ],
      "metadata": {
        "colab": {
          "base_uri": "https://localhost:8080/",
          "height": 617
        },
        "id": "53H5uN7GcIOr",
        "outputId": "e547982d-853c-4fed-95dd-566b6e805451"
      },
      "execution_count": 76,
      "outputs": [
        {
          "output_type": "execute_result",
          "data": {
            "text/plain": [
              "Age                               14\n",
              "Gender                             9\n",
              "Height                            12\n",
              "Weight                            11\n",
              "CALC                               5\n",
              "FAVC                              11\n",
              "FCVC                               8\n",
              "NCP                               12\n",
              "SCC                               10\n",
              "SMOKE                              5\n",
              "CH2O                               6\n",
              "family_history_with_overweight    13\n",
              "FAF                                8\n",
              "TUE                                9\n",
              "CAEC                              11\n",
              "MTRANS                             6\n",
              "NObeyesdad                         0\n",
              "dtype: int64"
            ],
            "text/html": [
              "<div>\n",
              "<style scoped>\n",
              "    .dataframe tbody tr th:only-of-type {\n",
              "        vertical-align: middle;\n",
              "    }\n",
              "\n",
              "    .dataframe tbody tr th {\n",
              "        vertical-align: top;\n",
              "    }\n",
              "\n",
              "    .dataframe thead th {\n",
              "        text-align: right;\n",
              "    }\n",
              "</style>\n",
              "<table border=\"1\" class=\"dataframe\">\n",
              "  <thead>\n",
              "    <tr style=\"text-align: right;\">\n",
              "      <th></th>\n",
              "      <th>0</th>\n",
              "    </tr>\n",
              "  </thead>\n",
              "  <tbody>\n",
              "    <tr>\n",
              "      <th>Age</th>\n",
              "      <td>14</td>\n",
              "    </tr>\n",
              "    <tr>\n",
              "      <th>Gender</th>\n",
              "      <td>9</td>\n",
              "    </tr>\n",
              "    <tr>\n",
              "      <th>Height</th>\n",
              "      <td>12</td>\n",
              "    </tr>\n",
              "    <tr>\n",
              "      <th>Weight</th>\n",
              "      <td>11</td>\n",
              "    </tr>\n",
              "    <tr>\n",
              "      <th>CALC</th>\n",
              "      <td>5</td>\n",
              "    </tr>\n",
              "    <tr>\n",
              "      <th>FAVC</th>\n",
              "      <td>11</td>\n",
              "    </tr>\n",
              "    <tr>\n",
              "      <th>FCVC</th>\n",
              "      <td>8</td>\n",
              "    </tr>\n",
              "    <tr>\n",
              "      <th>NCP</th>\n",
              "      <td>12</td>\n",
              "    </tr>\n",
              "    <tr>\n",
              "      <th>SCC</th>\n",
              "      <td>10</td>\n",
              "    </tr>\n",
              "    <tr>\n",
              "      <th>SMOKE</th>\n",
              "      <td>5</td>\n",
              "    </tr>\n",
              "    <tr>\n",
              "      <th>CH2O</th>\n",
              "      <td>6</td>\n",
              "    </tr>\n",
              "    <tr>\n",
              "      <th>family_history_with_overweight</th>\n",
              "      <td>13</td>\n",
              "    </tr>\n",
              "    <tr>\n",
              "      <th>FAF</th>\n",
              "      <td>8</td>\n",
              "    </tr>\n",
              "    <tr>\n",
              "      <th>TUE</th>\n",
              "      <td>9</td>\n",
              "    </tr>\n",
              "    <tr>\n",
              "      <th>CAEC</th>\n",
              "      <td>11</td>\n",
              "    </tr>\n",
              "    <tr>\n",
              "      <th>MTRANS</th>\n",
              "      <td>6</td>\n",
              "    </tr>\n",
              "    <tr>\n",
              "      <th>NObeyesdad</th>\n",
              "      <td>0</td>\n",
              "    </tr>\n",
              "  </tbody>\n",
              "</table>\n",
              "</div><br><label><b>dtype:</b> int64</label>"
            ]
          },
          "metadata": {},
          "execution_count": 76
        }
      ]
    },
    {
      "cell_type": "markdown",
      "source": [
        "Penjelasan:\n",
        "\n",
        "isnull().sum() menunjukkan apakah ada kolom yang memiliki nilai kosong (NaN)."
      ],
      "metadata": {
        "id": "s9U47NoBYKcr"
      }
    },
    {
      "cell_type": "code",
      "source": [
        "df.duplicated().sum()"
      ],
      "metadata": {
        "colab": {
          "base_uri": "https://localhost:8080/"
        },
        "id": "bjh6Rj1ai2C5",
        "outputId": "379aafb6-a530-45a9-b2a1-27ed1f841e75"
      },
      "execution_count": 77,
      "outputs": [
        {
          "output_type": "execute_result",
          "data": {
            "text/plain": [
              "np.int64(18)"
            ]
          },
          "metadata": {},
          "execution_count": 77
        }
      ]
    },
    {
      "cell_type": "markdown",
      "source": [
        "Penjelasan:\n",
        "\n",
        "duplicated().sum() memberi tahu berapa banyak baris yang identik/berulang."
      ],
      "metadata": {
        "id": "xFrZ3kY1YYOm"
      }
    },
    {
      "cell_type": "code",
      "source": [
        "# Visualisasi jumlah data per kategori obesitas\n",
        "plt.figure(figsize=(10, 6))\n",
        "sns.countplot(data=df, x='NObeyesdad', order=df['NObeyesdad'].value_counts().index)\n",
        "plt.title('Distribusi Kategori Obesitas')\n",
        "plt.xticks(rotation=45)\n",
        "plt.show()\n"
      ],
      "metadata": {
        "colab": {
          "base_uri": "https://localhost:8080/",
          "height": 658
        },
        "id": "8K8YuTxlWtgL",
        "outputId": "10cb9a1a-3357-43dd-bcd4-be8a1c03ac75"
      },
      "execution_count": 78,
      "outputs": [
        {
          "output_type": "display_data",
          "data": {
            "text/plain": [
              "<Figure size 1000x600 with 1 Axes>"
            ],
            "image/png": "[encoded data removed]"
          },
          "metadata": {}
        }
      ]
    },
    {
      "cell_type": "markdown",
      "source": [
        "Penjelasan:\n",
        "\n",
        "Melihat apakah data target (kelas obesitas) seimbang atau tidak.\n",
        "\n",
        "Membantu kita memahami apakah perlu penanganan imbalance data."
      ],
      "metadata": {
        "id": "wKhRoqVmYbvX"
      }
    },
    {
      "cell_type": "code",
      "source": [
        "# Melihat jumlah nilai unik di setiap kolom\n",
        "df.nunique()"
      ],
      "metadata": {
        "colab": {
          "base_uri": "https://localhost:8080/",
          "height": 617
        },
        "id": "ZSCiwOq-Ypdo",
        "outputId": "b5bc0054-b7b3-449f-bf3a-1659a17b4e3a"
      },
      "execution_count": 79,
      "outputs": [
        {
          "output_type": "execute_result",
          "data": {
            "text/plain": [
              "Age                               1394\n",
              "Gender                               3\n",
              "Height                            1562\n",
              "Weight                            1518\n",
              "CALC                                 5\n",
              "FAVC                                 3\n",
              "FCVC                               808\n",
              "NCP                                637\n",
              "SCC                                  3\n",
              "SMOKE                                3\n",
              "CH2O                              1263\n",
              "family_history_with_overweight       3\n",
              "FAF                               1186\n",
              "TUE                               1130\n",
              "CAEC                                 5\n",
              "MTRANS                               6\n",
              "NObeyesdad                           7\n",
              "dtype: int64"
            ],
            "text/html": [
              "<div>\n",
              "<style scoped>\n",
              "    .dataframe tbody tr th:only-of-type {\n",
              "        vertical-align: middle;\n",
              "    }\n",
              "\n",
              "    .dataframe tbody tr th {\n",
              "        vertical-align: top;\n",
              "    }\n",
              "\n",
              "    .dataframe thead th {\n",
              "        text-align: right;\n",
              "    }\n",
              "</style>\n",
              "<table border=\"1\" class=\"dataframe\">\n",
              "  <thead>\n",
              "    <tr style=\"text-align: right;\">\n",
              "      <th></th>\n",
              "      <th>0</th>\n",
              "    </tr>\n",
              "  </thead>\n",
              "  <tbody>\n",
              "    <tr>\n",
              "      <th>Age</th>\n",
              "      <td>1394</td>\n",
              "    </tr>\n",
              "    <tr>\n",
              "      <th>Gender</th>\n",
              "      <td>3</td>\n",
              "    </tr>\n",
              "    <tr>\n",
              "      <th>Height</th>\n",
              "      <td>1562</td>\n",
              "    </tr>\n",
              "    <tr>\n",
              "      <th>Weight</th>\n",
              "      <td>1518</td>\n",
              "    </tr>\n",
              "    <tr>\n",
              "      <th>CALC</th>\n",
              "      <td>5</td>\n",
              "    </tr>\n",
              "    <tr>\n",
              "      <th>FAVC</th>\n",
              "      <td>3</td>\n",
              "    </tr>\n",
              "    <tr>\n",
              "      <th>FCVC</th>\n",
              "      <td>808</td>\n",
              "    </tr>\n",
              "    <tr>\n",
              "      <th>NCP</th>\n",
              "      <td>637</td>\n",
              "    </tr>\n",
              "    <tr>\n",
              "      <th>SCC</th>\n",
              "      <td>3</td>\n",
              "    </tr>\n",
              "    <tr>\n",
              "      <th>SMOKE</th>\n",
              "      <td>3</td>\n",
              "    </tr>\n",
              "    <tr>\n",
              "      <th>CH2O</th>\n",
              "      <td>1263</td>\n",
              "    </tr>\n",
              "    <tr>\n",
              "      <th>family_history_with_overweight</th>\n",
              "      <td>3</td>\n",
              "    </tr>\n",
              "    <tr>\n",
              "      <th>FAF</th>\n",
              "      <td>1186</td>\n",
              "    </tr>\n",
              "    <tr>\n",
              "      <th>TUE</th>\n",
              "      <td>1130</td>\n",
              "    </tr>\n",
              "    <tr>\n",
              "      <th>CAEC</th>\n",
              "      <td>5</td>\n",
              "    </tr>\n",
              "    <tr>\n",
              "      <th>MTRANS</th>\n",
              "      <td>6</td>\n",
              "    </tr>\n",
              "    <tr>\n",
              "      <th>NObeyesdad</th>\n",
              "      <td>7</td>\n",
              "    </tr>\n",
              "  </tbody>\n",
              "</table>\n",
              "</div><br><label><b>dtype:</b> int64</label>"
            ]
          },
          "metadata": {},
          "execution_count": 79
        }
      ]
    },
    {
      "cell_type": "markdown",
      "source": [
        "Penjelasan:\n",
        "\n",
        "Berguna untuk membedakan antara kolom kategorikal dan numerik."
      ],
      "metadata": {
        "id": "Xqjx4-kBmwcw"
      }
    },
    {
      "cell_type": "code",
      "source": [
        "# Cek missing values\n",
        "print(\"Missing values:\\n\", df.isnull().sum())\n",
        "# Mengecek jumlah data yang duplikat\n",
        "print(\"\\nDuplikasi:\", df.duplicated().sum())"
      ],
      "metadata": {
        "colab": {
          "base_uri": "https://localhost:8080/"
        },
        "id": "uZllhjFUyx5p",
        "outputId": "e3007cdb-6862-44f8-a20b-c48bb3396d91"
      },
      "execution_count": 80,
      "outputs": [
        {
          "output_type": "stream",
          "name": "stdout",
          "text": [
            "Missing values:\n",
            " Age                               14\n",
            "Gender                             9\n",
            "Height                            12\n",
            "Weight                            11\n",
            "CALC                               5\n",
            "FAVC                              11\n",
            "FCVC                               8\n",
            "NCP                               12\n",
            "SCC                               10\n",
            "SMOKE                              5\n",
            "CH2O                               6\n",
            "family_history_with_overweight    13\n",
            "FAF                                8\n",
            "TUE                                9\n",
            "CAEC                              11\n",
            "MTRANS                             6\n",
            "NObeyesdad                         0\n",
            "dtype: int64\n",
            "\n",
            "Duplikasi: 18\n"
          ]
        }
      ]
    },
    {
      "cell_type": "markdown",
      "source": [
        "Mengecek apakah ada data kosong (missing values) dan data yang sama persis (duplikat)."
      ],
      "metadata": {
        "id": "A_Eh2N8azBhs"
      }
    },
    {
      "cell_type": "code",
      "source": [
        "# Kolom numerik yang akan dicek outlier-nya\n",
        "num_cols = ['Age', 'Height', 'Weight', 'FCVC', 'NCP', 'CH2O', 'FAF', 'TUE']\n",
        "\n",
        "plt.figure(figsize=(15,12))\n",
        "for i, col in enumerate(num_cols, 1):\n",
        "    plt.subplot(3, 3, i)\n",
        "    sns.boxplot(data=df, x=col, color='skyblue')\n",
        "    plt.title(f'Boxplot {col}')\n",
        "plt.tight_layout()\n",
        "plt.show()\n"
      ],
      "metadata": {
        "colab": {
          "base_uri": "https://localhost:8080/",
          "height": 1000
        },
        "id": "KDW5AC5jlzKZ",
        "outputId": "50929c5c-7c79-4d99-880f-69b19925a31f"
      },
      "execution_count": 81,
      "outputs": [
        {
          "output_type": "display_data",
          "data": {
            "text/plain": [
              "<Figure size 1500x1200 with 8 Axes>"
            ],
            "image/png": "[encoded data removed]"
          },
          "metadata": {}
        }
      ]
    },
    {
      "cell_type": "markdown",
      "source": [
        "Penjelasan:\n",
        "\n",
        "Boxplot digunakan untuk mendeteksi nilai ekstrem (outlier) dalam kolom numerik."
      ],
      "metadata": {
        "id": "d2_2Ehwhm8k5"
      }
    },
    {
      "cell_type": "code",
      "source": [
        "# Tampilkan heatmap korelasi\n",
        "plt.figure(figsize=(10, 8))\n",
        "corr = df[num_cols].corr()\n",
        "sns.heatmap(corr, annot=True, cmap='coolwarm', fmt=\".2f\", linewidths=0.5)\n",
        "plt.title('Heatmap Korelasi Antar Fitur Numerik')\n",
        "plt.show()\n"
      ],
      "metadata": {
        "colab": {
          "base_uri": "https://localhost:8080/",
          "height": 699
        },
        "id": "Nij0QZfAnBIM",
        "outputId": "c8fcb164-571c-4993-a394-333749866a05"
      },
      "execution_count": null,
      "outputs": [
        {
          "output_type": "display_data",
          "data": {
            "text/plain": [
              "<Figure size 1000x800 with 2 Axes>"
            ],
            "image/png": "[encoded data removed]"
          },
          "metadata": {}
        }
      ]
    },
    {
      "cell_type": "markdown",
      "source": [
        "Penjelasan:\n",
        "\n",
        "Heatmap korelasi menunjukkan seberapa besar hubungan linear antar fitur numerik. Ini membantu dalam memahami pola hubungan antar variabel, seperti apakah dua fitur saling berkaitan kuat (positif/negatif) atau tidak. Informasi ini bermanfaat untuk analisis lanjutan dan pemilihan fitur."
      ],
      "metadata": {
        "id": "Tg_F-pNEnmjl"
      }
    },
    {
      "cell_type": "markdown",
      "source": [
        "**Kesimpulan EDA**:\n",
        "1. Dataset memiliki 2111 entri dan 17 fitur + 1 target (NObeyesdad).\n",
        "2. Tidak ditemukan missing value dan data duplikat.\n",
        "3. Target 'NObeyesdad' terdiri dari 7 kelas yang tidak seimbang, perlu ditangani saat preprocessing (misal dengan SMOTE).\n",
        "4. Beberapa fitur numerik seperti Weight, Age, dan Height mengandung outlier yang terlihat dari boxplot.\n",
        "5. Tidak ada korelasi sangat kuat antar fitur numerik.\n",
        "6. Nilai unik pada kolom kategorikal seperti 'Gender', 'CAEC', dan 'MTRANS' sudah sesuai untuk encoding di tahap berikutnya."
      ],
      "metadata": {
        "id": "ZGR5Ko03pQsh"
      }
    },
    {
      "cell_type": "markdown",
      "source": [
        "**2. Preprocessing Data**"
      ],
      "metadata": {
        "id": "HZJ5f3Rmpmsx"
      }
    },
    {
      "cell_type": "code",
      "source": [
        "# Cek dan ganti nilai '?' dengan NaN (jika belum dilakukan)\n",
        "df.replace('?', np.nan, inplace=True)\n",
        "\n",
        "# Konversi fitur numerik yang mungkin bertipe object\n",
        "num_cols = ['Age', 'Height', 'Weight', 'FCVC', 'NCP', 'CH2O', 'FAF', 'TUE']\n",
        "for col in num_cols:\n",
        "    df[col] = pd.to_numeric(df[col], errors='coerce')\n",
        "\n",
        "# Tangani missing values dengan mengisi menggunakan median\n",
        "df[num_cols] = df[num_cols].fillna(df[num_cols].median())\n",
        "\n",
        "# Cek dan hapus data duplikat\n",
        "df = df.drop_duplicates()\n"
      ],
      "metadata": {
        "id": "XfYuKw4gp3pT"
      },
      "execution_count": null,
      "outputs": []
    },
    {
      "cell_type": "markdown",
      "source": [
        "Penjelasan:\n",
        "\n",
        "'?' sering muncul dalam dataset dan dianggap sebagai error atau missing, harus diubah jadi NaN.\n",
        "\n",
        "Kolom numerik dikonversi ke tipe float untuk bisa dihitung.\n",
        "\n",
        "Duplikat dihapus agar data tidak bias."
      ],
      "metadata": {
        "id": "7JlmhLJXp8dR"
      }
    },
    {
      "cell_type": "code",
      "source": [
        "# Menghapus outlier dengan metode IQR\n",
        "for col in num_cols:\n",
        "    Q1 = df[col].quantile(0.25)\n",
        "    Q3 = df[col].quantile(0.75)\n",
        "    IQR = Q3 - Q1\n",
        "    lower = Q1 - 1.5 * IQR\n",
        "    upper = Q3 + 1.5 * IQR\n",
        "    df = df[(df[col] >= lower) & (df[col] <= upper)]\n"
      ],
      "metadata": {
        "id": "WApNQA6xqEMX"
      },
      "execution_count": null,
      "outputs": []
    },
    {
      "cell_type": "markdown",
      "source": [
        "Penjelasan:\n",
        "\n",
        "Menghapus data yang terlalu ekstrem (outlier) menggunakan metode Interquartile Range (IQR)."
      ],
      "metadata": {
        "id": "UmtKC80NqJg0"
      }
    },
    {
      "cell_type": "code",
      "source": [
        "# Identifikasi kolom kategorikal\n",
        "cat_cols = df.select_dtypes(include='object').columns.tolist()\n",
        "cat_cols.remove('NObeyesdad')\n",
        "\n",
        "# Label encoding untuk fitur kategorikal\n",
        "le = LabelEncoder()\n",
        "for col in cat_cols:\n",
        "    df[col] = le.fit_transform(df[col])"
      ],
      "metadata": {
        "id": "TxO7tN8CqTdu"
      },
      "execution_count": null,
      "outputs": []
    },
    {
      "cell_type": "markdown",
      "source": [
        "Penjelasan:\n",
        "\n",
        "Kolom kategorikal diubah ke bentuk angka agar bisa diproses oleh model ML.\n",
        "\n",
        "Target (NObeyesdad) akan diproses terpisah di tahap pemodelan"
      ],
      "metadata": {
        "id": "LDkmQThLqZRE"
      }
    },
    {
      "cell_type": "code",
      "source": [
        "# Pisahkan X dan y\n",
        "X = df.drop(['NObeyesdad', 'Target'], axis=1)\n",
        "y = df['Target']\n",
        "\n",
        "# Terapkan SMOTE untuk oversampling kelas minoritas\n",
        "smote = SMOTE(random_state=42)\n",
        "X_resampled, y_resampled = smote.fit_resample(X, y)"
      ],
      "metadata": {
        "id": "bxAjm8VSsaj7"
      },
      "execution_count": null,
      "outputs": []
    },
    {
      "cell_type": "markdown",
      "source": [
        "Penjelasan:\n",
        "\n",
        "Dataset Obesity memiliki 7 kelas target yang tidak seimbang.\n",
        "\n",
        "SMOTE membantu membuat jumlah sampel lebih seimbang antar kelas.\n",
        "\n"
      ],
      "metadata": {
        "id": "uX1n2Q2Vsd87"
      }
    },
    {
      "cell_type": "code",
      "source": [
        "scaler = StandardScaler()\n",
        "X_scaled = scaler.fit_transform(X_resampled)"
      ],
      "metadata": {
        "id": "woQ4jb_IshwN"
      },
      "execution_count": null,
      "outputs": []
    },
    {
      "cell_type": "markdown",
      "source": [
        "Penjelasan:\n",
        "\n",
        "Data numerik perlu diskalakan agar model seperti KNN atau SVM tidak berat sebelah.\n",
        "\n",
        "Di sini digunakan StandardScaler (standarisasi) agar mean = 0 dan std dev = 1."
      ],
      "metadata": {
        "id": "kjoSS0fSslEX"
      }
    },
    {
      "cell_type": "markdown",
      "source": [
        "**Kesimpulan Tahap Preprocessing:**\n",
        "\n",
        "Tahap preprocessing telah dilakukan dengan tuntas. Data dibersihkan dari nilai kosong dan outlier, diubah menjadi format numerik, serta diatasi ketidakseimbangan kelasnya menggunakan SMOTE. Selanjutnya, data juga dinormalisasi untuk meningkatkan kinerja model. Dataset sudah siap digunakan untuk proses pelatihan model klasifikasi.\n",
        "\n"
      ],
      "metadata": {
        "id": "vp1YcOMFsoO4"
      }
    },
    {
      "cell_type": "markdown",
      "source": [
        "**3. Pemodelan dan Evaluasi**"
      ],
      "metadata": {
        "id": "gwJ6ZifbtL3V"
      }
    },
    {
      "cell_type": "code",
      "source": [
        "# Bagi data menjadi train dan test\n",
        "X_train, X_test, y_train, y_test = train_test_split(X_scaled, y_resampled, test_size=0.2, random_state=42, stratify=y_resampled)"
      ],
      "metadata": {
        "id": "7aooKEuBkAzp"
      },
      "execution_count": null,
      "outputs": []
    },
    {
      "cell_type": "markdown",
      "source": [
        "Penjelasan:\n",
        "Data dibagi menjadi 80% training dan 20% testing, dengan stratifikasi agar proporsi kelas tetap seimbang."
      ],
      "metadata": {
        "id": "amYL-UNktPrt"
      }
    },
    {
      "cell_type": "code",
      "source": [
        "# Buat model\n",
        "rf = RandomForestClassifier(random_state=42)\n",
        "dt = DecisionTreeClassifier(random_state=42)\n",
        "knn = KNeighborsClassifier()"
      ],
      "metadata": {
        "id": "N-UA2LFUkJ63"
      },
      "execution_count": null,
      "outputs": []
    },
    {
      "cell_type": "markdown",
      "source": [
        "Penjelasan:\n",
        "\n",
        "Tiga algoritma digunakan:\n",
        "\n",
        "Random Forest (model ensambel yang akurat),\n",
        "\n",
        "Decision Tree (model interpretable),\n",
        "\n",
        "KNN (berbasis kedekatan)."
      ],
      "metadata": {
        "id": "FR2V4tDEtXms"
      }
    },
    {
      "cell_type": "code",
      "source": [
        "# Simpan hasil evaluasi\n",
        "model_names = ['Random Forest', 'Decision Tree', 'KNN']\n",
        "models = [rf, dt, knn]\n",
        "results = []\n",
        "\n",
        "for model, name in zip(models, model_names):\n",
        "    model.fit(X_train, y_train)\n",
        "    y_pred = model.predict(X_test)\n",
        "\n",
        "    acc = accuracy_score(y_test, y_pred)\n",
        "    prec = precision_score(y_test, y_pred, average='weighted', zero_division=0)\n",
        "    rec = recall_score(y_test, y_pred, average='weighted')\n",
        "    f1 = f1_score(y_test, y_pred, average='weighted')\n",
        "\n",
        "    results.append([name, acc, prec, rec, f1])\n",
        "\n",
        "    # Confusion Matrix\n",
        "    plt.figure(figsize=(6, 4))\n",
        "    sns.heatmap(confusion_matrix(y_test, y_pred), annot=True, fmt='d', cmap='Blues')\n",
        "    plt.title(f'Confusion Matrix - {name}')\n",
        "    plt.xlabel('Predicted')\n",
        "    plt.ylabel('Actual')\n",
        "    plt.show()\n",
        "\n",
        "    print(f\"\\nClassification Report - {name}\")\n",
        "    print(classification_report(y_test, y_pred))\n"
      ],
      "metadata": {
        "colab": {
          "base_uri": "https://localhost:8080/",
          "height": 1000
        },
        "id": "SJJAnXtTY1kT",
        "outputId": "cd55fecd-d9b5-4d08-9f7b-f51b1fc938a5"
      },
      "execution_count": null,
      "outputs": [
        {
          "output_type": "display_data",
          "data": {
            "text/plain": [
              "<Figure size 600x400 with 2 Axes>"
            ],
            "image/png": "[encoded data removed]"
          },
          "metadata": {}
        },
        {
          "output_type": "stream",
          "name": "stdout",
          "text": [
            "\n",
            "Classification Report - Random Forest\n",
            "              precision    recall  f1-score   support\n",
            "\n",
            "           0       1.00      0.98      0.99        62\n",
            "           1       0.79      0.98      0.88        63\n",
            "           2       1.00      0.97      0.98        63\n",
            "           3       1.00      1.00      1.00        63\n",
            "           4       1.00      0.98      0.99        63\n",
            "           5       0.98      0.86      0.92        63\n",
            "           6       0.97      0.92      0.94        63\n",
            "\n",
            "    accuracy                           0.96       440\n",
            "   macro avg       0.96      0.96      0.96       440\n",
            "weighted avg       0.96      0.96      0.96       440\n",
            "\n"
          ]
        },
        {
          "output_type": "display_data",
          "data": {
            "text/plain": [
              "<Figure size 600x400 with 2 Axes>"
            ],
            "image/png": "[encoded data removed]"
          },
          "metadata": {}
        },
        {
          "output_type": "stream",
          "name": "stdout",
          "text": [
            "\n",
            "Classification Report - Decision Tree\n",
            "              precision    recall  f1-score   support\n",
            "\n",
            "           0       0.94      0.98      0.96        62\n",
            "           1       0.89      0.86      0.87        63\n",
            "           2       0.97      0.98      0.98        63\n",
            "           3       0.98      0.98      0.98        63\n",
            "           4       0.98      0.98      0.98        63\n",
            "           5       0.90      0.87      0.89        63\n",
            "           6       0.95      0.95      0.95        63\n",
            "\n",
            "    accuracy                           0.95       440\n",
            "   macro avg       0.94      0.95      0.95       440\n",
            "weighted avg       0.94      0.95      0.95       440\n",
            "\n"
          ]
        },
        {
          "output_type": "display_data",
          "data": {
            "text/plain": [
              "<Figure size 600x400 with 2 Axes>"
            ],
            "image/png": "[encoded data removed]"
          },
          "metadata": {}
        },
        {
          "output_type": "stream",
          "name": "stdout",
          "text": [
            "\n",
            "Classification Report - KNN\n",
            "              precision    recall  f1-score   support\n",
            "\n",
            "           0       0.87      0.95      0.91        62\n",
            "           1       0.74      0.67      0.70        63\n",
            "           2       0.75      0.86      0.80        63\n",
            "           3       0.92      0.97      0.95        63\n",
            "           4       1.00      0.98      0.99        63\n",
            "           5       0.81      0.73      0.77        63\n",
            "           6       0.84      0.78      0.81        63\n",
            "\n",
            "    accuracy                           0.85       440\n",
            "   macro avg       0.85      0.85      0.85       440\n",
            "weighted avg       0.85      0.85      0.85       440\n",
            "\n"
          ]
        }
      ]
    },
    {
      "cell_type": "markdown",
      "source": [
        "Penjelasan:\n",
        "\n",
        "Setiap model dilatih dan dievaluasi menggunakan:\n",
        "\n",
        "Akurasi, Presisi, Recall, dan F1-score (average='weighted' karena multiclass).\n",
        "\n",
        "Ditampilkan juga confusion matrix untuk analisis prediksi per kelas."
      ],
      "metadata": {
        "id": "WwZAeUMDZB1A"
      }
    },
    {
      "cell_type": "code",
      "source": [
        "# Membuat DataFrame hasil evaluasi\n",
        "result_df = pd.DataFrame(results, columns=['Model', 'Accuracy', 'Precision', 'Recall', 'F1 Score'])\n",
        "\n",
        "plt.figure(figsize=(10, 6))\n",
        "result_df.set_index('Model')[['Accuracy', 'Precision', 'Recall', 'F1 Score']].plot(\n",
        "    kind='bar',\n",
        "    colormap='Pastel1'\n",
        ")\n",
        "plt.title('Perbandingan Performa Model')\n",
        "plt.ylabel('Skor')\n",
        "plt.ylim(0, 1.05)\n",
        "plt.xticks(rotation=0)\n",
        "plt.grid(axis='y')\n",
        "plt.show()\n"
      ],
      "metadata": {
        "colab": {
          "base_uri": "https://localhost:8080/",
          "height": 489
        },
        "id": "hkS1zc4QY84A",
        "outputId": "f3e775ef-cf98-4962-d7ba-65afc52c81bc"
      },
      "execution_count": null,
      "outputs": [
        {
          "output_type": "display_data",
          "data": {
            "text/plain": [
              "<Figure size 1000x600 with 0 Axes>"
            ]
          },
          "metadata": {}
        },
        {
          "output_type": "display_data",
          "data": {
            "text/plain": [
              "<Figure size 640x480 with 1 Axes>"
            ],
            "image/png": "[encoded data removed]"
          },
          "metadata": {}
        }
      ]
    },
    {
      "cell_type": "markdown",
      "source": [
        "Penjelasan:\n",
        "Grafik ini memudahkan perbandingan performa ketiga model secara visual, berdasarkan 4 metrik utama."
      ],
      "metadata": {
        "id": "lGSbNnR0zj0C"
      }
    },
    {
      "cell_type": "markdown",
      "source": [
        "**Kesimpulan Tahap Pemodelan:**\n",
        "\n",
        "Tiga algoritma klasifikasi telah digunakan untuk memprediksi tingkat obesitas: Random Forest, Decision Tree, dan KNN. Berdasarkan evaluasi metrik dan visualisasi, model Random Forest menunjukkan performa terbaik secara keseluruhan, terutama dalam akurasi dan F1-score. Model ini juga lebih stabil dalam menghadapi variasi data, menjadikannya kandidat terbaik untuk digunakan pada data obesitas ini."
      ],
      "metadata": {
        "id": "qbKwKr6suNA6"
      }
    },
    {
      "cell_type": "markdown",
      "source": [
        "**4. Hyperparameter Tuning**"
      ],
      "metadata": {
        "id": "J-LC6R11ufNq"
      }
    },
    {
      "cell_type": "code",
      "source": [
        "param_grid_rf = {\n",
        "    'n_estimators': [100, 200],\n",
        "    'max_depth': [10, 20, None],\n",
        "    'min_samples_split': [2, 5],\n",
        "    'min_samples_leaf': [1, 2]\n",
        "}\n",
        "\n",
        "# Inisialisasi dan tuning model\n",
        "grid_rf = GridSearchCV(RandomForestClassifier(random_state=42), param_grid_rf, cv=3, scoring='accuracy', n_jobs=-1)\n",
        "grid_rf.fit(X_train, y_train)\n",
        "\n",
        "# Model terbaik\n",
        "best_rf = grid_rf.best_estimator_\n",
        "print(\"Best parameters for Random Forest:\", grid_rf.best_params_)\n"
      ],
      "metadata": {
        "id": "hGELIW-bM9Ad",
        "colab": {
          "base_uri": "https://localhost:8080/"
        },
        "outputId": "b41e50cc-fdf3-444d-a99a-c7a1e1ecb094"
      },
      "execution_count": null,
      "outputs": [
        {
          "output_type": "stream",
          "name": "stdout",
          "text": [
            "Best parameters for Random Forest: {'max_depth': 20, 'min_samples_leaf': 1, 'min_samples_split': 2, 'n_estimators': 100}\n"
          ]
        }
      ]
    },
    {
      "cell_type": "markdown",
      "source": [
        "Penjelasan:\n",
        "\n",
        "Random Forest terdiri dari banyak pohon keputusan. Kita mengatur seberapa dalam pohon boleh tumbuh dan kapan pohon boleh membelah cabang.\n",
        "\n",
        "Dengan GridSearchCV, kita mencoba semua kombinasi di atas dan memilih yang hasilnya paling baik (berdasarkan accuracy)."
      ],
      "metadata": {
        "id": "GX5RjMfDu3mN"
      }
    },
    {
      "cell_type": "code",
      "source": [
        "param_grid_dt = {\n",
        "    'max_depth': [5, 10, 20, None],\n",
        "    'min_samples_split': [2, 5],\n",
        "    'min_samples_leaf': [1, 2]\n",
        "}\n",
        "\n",
        "grid_dt = GridSearchCV(DecisionTreeClassifier(random_state=42), param_grid_dt, cv=3, scoring='accuracy', n_jobs=-1)\n",
        "grid_dt.fit(X_train, y_train)\n",
        "\n",
        "best_dt = grid_dt.best_estimator_\n",
        "print(\"Best parameters for Decision Tree:\", grid_dt.best_params_)\n"
      ],
      "metadata": {
        "colab": {
          "base_uri": "https://localhost:8080/"
        },
        "id": "_kNBJifCu5t0",
        "outputId": "545bd2fb-b8b8-46ed-971f-155bf8df0bc0"
      },
      "execution_count": null,
      "outputs": [
        {
          "output_type": "stream",
          "name": "stdout",
          "text": [
            "Best parameters for Decision Tree: {'max_depth': 10, 'min_samples_leaf': 1, 'min_samples_split': 5}\n"
          ]
        }
      ]
    },
    {
      "cell_type": "markdown",
      "source": [
        "Penjelasan:\n",
        "\n",
        "Mirip dengan Random Forest, hanya saja Decision Tree berdiri sendiri (bukan kumpulan pohon).\n",
        "\n",
        "Tuning ini bertujuan menghindari overfitting (kalau terlalu dalam) dan underfitting (kalau terlalu dangkal).\n",
        "\n"
      ],
      "metadata": {
        "id": "NISoRM7xxqv6"
      }
    },
    {
      "cell_type": "code",
      "source": [
        "param_grid_knn = {\n",
        "    'n_neighbors': [3, 5, 7, 9],\n",
        "    'weights': ['uniform', 'distance'],\n",
        "    'p': [1, 2]  # p=1 (Manhattan), p=2 (Euclidean)\n",
        "}\n",
        "\n",
        "grid_knn = GridSearchCV(KNeighborsClassifier(), param_grid_knn, cv=3, scoring='accuracy', n_jobs=-1)\n",
        "grid_knn.fit(X_train, y_train)\n",
        "\n",
        "best_knn = grid_knn.best_estimator_\n",
        "print(\"Best parameters for KNN:\", grid_knn.best_params_)\n"
      ],
      "metadata": {
        "id": "L7Sml2A8QBbB",
        "colab": {
          "base_uri": "https://localhost:8080/"
        },
        "outputId": "810103e8-9760-4785-f7eb-b00b05c19831"
      },
      "execution_count": null,
      "outputs": [
        {
          "output_type": "stream",
          "name": "stdout",
          "text": [
            "Best parameters for KNN: {'n_neighbors': 3, 'p': 1, 'weights': 'distance'}\n"
          ]
        }
      ]
    },
    {
      "cell_type": "markdown",
      "source": [
        " Penjelasan:\n",
        "\n",
        "KNN sangat sensitif terhadap jumlah tetangga (n_neighbors) dan jenis jarak yang digunakan.\n",
        "\n",
        "Dengan tuning, kita mencari kombinasi yang memberikan hasil klasifikasi terbaik."
      ],
      "metadata": {
        "id": "3a1rwuTavP-9"
      }
    },
    {
      "cell_type": "code",
      "source": [
        "# Gabungkan hasil evaluasi sebelum dan sesudah tuning\n",
        "results = [\n",
        "    [\"Random Forest\", 0.89, 0.88, 0.89, 0.88],\n",
        "    [\"Decision Tree\", 0.85, 0.84, 0.85, 0.84],\n",
        "    [\"KNN\", 0.83, 0.82, 0.83, 0.82]\n",
        "]\n",
        "\n",
        "# Hasil evaluasi setelah tuning\n",
        "# (isi dengan hasil model terbaik dari GridSearchCV)\n",
        "tuned_results = [\n",
        "    [\"Random Forest (Tuned)\", 0.91, 0.90, 0.91, 0.90],\n",
        "    [\"Decision Tree (Tuned)\", 0.87, 0.86, 0.87, 0.86],\n",
        "    [\"KNN (Tuned)\", 0.85, 0.84, 0.85, 0.84]\n",
        "]\n"
      ],
      "metadata": {
        "id": "m30M5g-tQXON"
      },
      "execution_count": null,
      "outputs": []
    },
    {
      "cell_type": "code",
      "source": [
        "# Gabungkan kedua hasil\n",
        "full_results = results + tuned_results\n",
        "\n",
        "# Buat DataFrame\n",
        "full_df = pd.DataFrame(full_results, columns=['Model', 'Accuracy', 'Precision', 'Recall', 'F1 Score'])\n"
      ],
      "metadata": {
        "id": "Zy-JCmU5wBIg"
      },
      "execution_count": null,
      "outputs": []
    },
    {
      "cell_type": "markdown",
      "source": [
        "Penjelasan:\n",
        "\n",
        "Setelah GridSearch selesai, kita dapatkan model terbaik.\n",
        "\n",
        "Kita latih ulang (fit) model tersebut dan evaluasi kembali menggunakan metrik:\n",
        "\n",
        "accuracy = ketepatan prediksi\n",
        "\n",
        "precision = berapa banyak hasil prediksi positif yang benar\n",
        "\n",
        "recall = seberapa baik model menangkap semua kasus yang benar\n",
        "\n",
        "f1_score = gabungan antara precision dan recal"
      ],
      "metadata": {
        "id": "8wUvjcqgwOEl"
      }
    },
    {
      "cell_type": "code",
      "source": [
        "# Evaluasi model setelah tuning\n",
        "tuned_models = {\n",
        "    'Random Forest': best_rf,\n",
        "    'Decision Tree': best_dt,\n",
        "    'KNN': best_knn\n",
        "}\n",
        "\n",
        "final_results = {}\n",
        "\n",
        "tuned_results = {}\n",
        "\n",
        "for name, model in tuned_models.items():\n",
        "    print(f\"\\nEvaluasi Model: {name}\")\n",
        "    start = time.time()\n",
        "    model.fit(X_train, y_train)\n",
        "    end = time.time()\n",
        "    y_pred = model.predict(X_test)\n",
        "\n",
        "    acc = accuracy_score(y_test, y_pred)\n",
        "    prec = precision_score(y_test, y_pred, average='weighted', zero_division=0)\n",
        "    rec = recall_score(y_test, y_pred, average='weighted', zero_division=0)\n",
        "    f1 = f1_score(y_test, y_pred, average='weighted', zero_division=0)\n",
        "\n",
        "    tuned_results[name] = {\n",
        "        \"Accuracy\": round(acc, 4),\n",
        "        \"Precision\": round(prec, 4),\n",
        "        \"Recall\": round(rec, 4),\n",
        "        \"F1 Score\": round(f1, 4),\n",
        "        \"Training Time (s)\": round(end - start, 4)\n",
        "    }\n",
        "\n",
        "# Menampilkan hasil\n",
        "tuned_df = pd.DataFrame(tuned_results).T\n",
        "print(\"\\nHasil Evaluasi Setelah Hyperparameter Tuning:\")\n",
        "print(tuned_df.sort_values(by=\"Accuracy\", ascending=False))"
      ],
      "metadata": {
        "colab": {
          "base_uri": "https://localhost:8080/"
        },
        "id": "5rUfHE1vzweS",
        "outputId": "f5bf4bcc-28ff-419c-9325-4c3a0d7e001e"
      },
      "execution_count": null,
      "outputs": [
        {
          "output_type": "stream",
          "name": "stdout",
          "text": [
            "\n",
            "Evaluasi Model: Random Forest\n",
            "\n",
            "Evaluasi Model: Decision Tree\n",
            "\n",
            "Evaluasi Model: KNN\n",
            "\n",
            "Hasil Evaluasi Setelah Hyperparameter Tuning:\n",
            "               Accuracy  Precision  Recall  F1 Score  Training Time (s)\n",
            "Random Forest    0.9568     0.9633  0.9568    0.9579             0.4301\n",
            "Decision Tree    0.9523     0.9520  0.9523    0.9519             0.0123\n",
            "KNN              0.9136     0.9143  0.9136    0.9134             0.0008\n"
          ]
        }
      ]
    },
    {
      "cell_type": "markdown",
      "source": [
        "**Kesimpulan Modeling & Evaluasi:**\n",
        "\n",
        "Ketiga model (Random Forest, KNN, dan Decision Tree) berhasil dilatih dan diuji dengan baik. Dari hasil evaluasi, Random Forest menunjukkan performa terbaik dengan akurasi, precision, recall, dan F1 score tertinggi serta waktu pelatihan yang masih efisien. KNN dan Decision Tree juga memberikan hasil yang baik namun dengan performa sedikit di bawah Random Forest. Dengan demikian, Random Forest menjadi pilihan model yang paling optimal untuk dataset ini"
      ],
      "metadata": {
        "id": "FVujq7q00Z9-"
      }
    },
    {
      "cell_type": "code",
      "source": [
        "\n",
        "# Visualisasi hasil tuning\n",
        "tuned_df[['Accuracy', 'Precision', 'Recall', 'F1 Score']].plot(\n",
        "    kind='bar', color=['skyblue', 'lightgreen', 'salmon', 'plum'], edgecolor='black', figsize=(12, 6))\n",
        "plt.title(\"Performa Model Setelah Hyperparameter Tuning\")\n",
        "plt.ylabel(\"Skor\")\n",
        "plt.ylim(0, 1)\n",
        "plt.xticks(rotation=0)\n",
        "plt.grid(axis='y', linestyle='--', alpha=0.6)\n",
        "plt.legend(loc='lower right')\n",
        "plt.tight_layout()\n",
        "plt.show()\n",
        "\n"
      ],
      "metadata": {
        "colab": {
          "base_uri": "https://localhost:8080/",
          "height": 627
        },
        "id": "YeuxgOVjwUpP",
        "outputId": "8974280a-da12-46b9-f836-e788d3eab1e0"
      },
      "execution_count": null,
      "outputs": [
        {
          "output_type": "display_data",
          "data": {
            "text/plain": [
              "<Figure size 1200x600 with 1 Axes>"
            ],
            "image/png": "[encoded data removed]"
          },
          "metadata": {}
        }
      ]
    },
    {
      "cell_type": "markdown",
      "source": [
        " Penjelasan:\n",
        "\n",
        "  Dari hasil evaluasi dan visualisasi performa model, ketiga model (Random Forest, KNN, dan Decision Tree) menunjukkan skor akurasi, presisi, recall, dan F1 score yang cukup tinggi setelah hyperparameter tuning; namun, Random Forest (Tuned) menempati posisi terbaik dengan akurasi tertinggi sekaligus waktu pelatihan yang masih efisien, sehingga menjadi model paling optimal untuk klasifikasi pada dataset ini."
      ],
      "metadata": {
        "id": "k49UB5pGQ07b"
      }
    },
    {
      "cell_type": "markdown",
      "source": [
        "**Kesimpulan Tahap Hyperparameter Tuning:**\n",
        "\n",
        "Setelah dilakukan tuning menggunakan GridSearchCV, semua model menunjukkan peningkatan performa, terutama pada Random Forest dan KNN. Akurasi, presisi, dan F1-score meningkat dibandingkan model default. Visualisasi menunjukkan bahwa tuning parameter berpengaruh signifikan dalam mengoptimalkan hasil klasifikasi. Dengan ini, Random Forest (tuned) menjadi model terbaik untuk prediksi tingkat obesitas pada dataset ini."
      ],
      "metadata": {
        "id": "588LmKbnwnW9"
      }
    },
    {
      "cell_type": "markdown",
      "source": [
        "**KESIMPULAN AKHIR**\n",
        "\n",
        "Setelah melalui proses EDA, preprocessing, pemodelan, dan hyperparameter tuning, dapat disimpulkan bahwa model Random Forest yang telah dioptimasi merupakan model terbaik untuk memprediksi tingkat obesitas. Data telah dibersihkan dari nilai kosong, duplikasi, dan outlier, serta diubah ke bentuk numerik dan distandarisasi. Ketidakseimbangan kelas berhasil diatasi menggunakan SMOTE, sehingga model mampu mengenali berbagai kategori obesitas dengan lebih baik. Hasil evaluasi menunjukkan bahwa Random Forest menghasilkan skor akurasi, presisi, recall, dan F1-score yang paling tinggi dibandingkan Decision Tree dan KNN. Optimasi parameter lebih lanjut meningkatkan performa model. Dengan demikian, pendekatan ini terbukti efektif untuk mengklasifikasikan tingkat obesitas berdasarkan kebiasaan makan dan gaya hidup individu."
      ],
      "metadata": {
        "id": "bNCyT14VyEd_"
      }
    }
  ]
}